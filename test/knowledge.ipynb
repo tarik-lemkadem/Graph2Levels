{
 "cells": [
  {
   "cell_type": "code",
   "execution_count": 1,
   "id": "81b9df7d",
   "metadata": {},
   "outputs": [
    {
     "name": "stderr",
     "output_type": "stream",
     "text": [
      "\n",
      "Bad key \"text.kerning_factor\" on line 4 in\n",
      "C:\\Users\\tarik\\Anaconda3\\envs\\graphs\\lib\\site-packages\\matplotlib\\mpl-data\\stylelib\\_classic_test_patch.mplstyle.\n",
      "You probably need to get an updated matplotlibrc file from\n",
      "http://github.com/matplotlib/matplotlib/blob/master/matplotlibrc.template\n",
      "or from the matplotlib source distribution\n"
     ]
    }
   ],
   "source": [
    "from Embed import *\n",
    "import pandas as pd\n",
    "import numpy as np\n",
    "import random\n",
    "import networkx as nx\n",
    "from tqdm import tqdm\n",
    "import re\n",
    "import matplotlib.pyplot as plt\n",
    "import collections\n",
    "\n",
    "from sklearn import svm\n",
    "from sklearn.naive_bayes import GaussianNB\n",
    "from sklearn.linear_model import LogisticRegression\n",
    "from sklearn.metrics import classification_report, roc_auc_score, accuracy_score\n",
    "from sklearn.model_selection import train_test_split\n",
    "from sklearn.metrics import confusion_matrix"
   ]
  },
  {
   "cell_type": "code",
   "execution_count": null,
   "id": "03dc1b43",
   "metadata": {
    "jupyter": {
     "source_hidden": true
    },
    "tags": []
   },
   "outputs": [],
   "source": []
  },
  {
   "cell_type": "code",
   "execution_count": 6,
   "id": "8859859b",
   "metadata": {
    "tags": []
   },
   "outputs": [
    {
     "name": "stdout",
     "output_type": "stream",
     "text": [
      " reading part 1 \n",
      " graph of     180366 node        and 385592  edge\n",
      "matrix shape :  180366 X 180366\n",
      "   matrix is normalized         \n",
      "   matrix of transaction built       \n"
     ]
    },
    {
     "name": "stderr",
     "output_type": "stream",
     "text": [
      "  0%|                                                                                       | 0/385592 [00:00<?, ?it/s]"
     ]
    },
    {
     "name": "stdout",
     "output_type": "stream",
     "text": [
      " 385592   edges in current level ' 2 '\n"
     ]
    },
    {
     "name": "stderr",
     "output_type": "stream",
     "text": [
      "100%|█████████████████████████████████████████████████████████████████████████| 385592/385592 [11:31<00:00, 557.53it/s]\n"
     ]
    },
    {
     "name": "stdout",
     "output_type": "stream",
     "text": [
      "level 2 built  in 692.2100548744202\n",
      "   begin embedding         \n",
      "Embeding done in  762.9900488853455\n",
      "180366\n"
     ]
    },
    {
     "data": {
      "text/plain": [
       "\"\\n    # --------------- test ------------------------------------\\n    #test_graph_name = 'graphs/graph_test_' + str(ix) + '.gml.gz'\\n    test_edges_name = '../../graphs/graph_test_edges_sampled_' + str(ix) + '.csv'\\n\\n    if 'adar' in method_:\\n        list_pred_scores_test, list_real_labels_test = collectAdarScores(G, test_edges_name)\\n    else:\\n        list_pred_scores_test, list_real_labels_test = collectJaccardScores(G, test_edges_name)\\n    list_pred_labels_test = classifyFeatures(np.array(list_pred_scores_test).reshape(-1, 1), model)\\n\\n    fo__ = open('prediction_results_test_mp_' + str(ix) + '.txt', 'w')\\n    for icurrpred in range(len(list_pred_labels_test)):\\n        fo__.write(str(list_pred_labels_test[icurrpred, 1]) + '\\t' + str(list_real_labels_test[icurrpred]) + '\\n')\\n    fo__.close()\\n    # compute the performance over test set\\n    tp_t, tn_t, fp_t, fn_t = computeAccuracy(list_pred_labels_test[:, 1], list_real_labels_test)\\n    acc_t = (tp_t+tn_t)/float(tp_t+tn_t+fp_t+fn_t)\\n    fo.write('test\\t' + str(tp_t) + '\\t' + str(tn_t) + '\\t' + str(fp_t) + '\\t' + str(fn_t) + '\\t' + str(acc_t) + '\\n')\\n    del G\\n\\nfo.close()\\n\""
      ]
     },
     "execution_count": 6,
     "metadata": {},
     "output_type": "execute_result"
    }
   ],
   "source": [
    "fo = open('accuracy_test_results_baseline_mp.txt', 'w')\n",
    "fo.write('set\\ttp\\ttn\\tfp\\tfn\\tacc\\n')\n",
    "# read the A_train graph\n",
    "for ix in range(1, 2):#range(1, 6)\n",
    "\n",
    "    # ---------------- training ----------------------\n",
    "    train_graph_name = '../../graphs/graph_sampled_' + str(ix) + '.gml.gz'\n",
    "    G = nx.read_gml(train_graph_name)\n",
    "    print (f\" reading part {str(ix)} \\n graph of     {len(G.nodes())} node        and {len(G.edges())}  edge\")\n",
    "    #train_edges_name = '../../graphs/graph_train_edges_sampled_' + str(ix) + '.csv'\n",
    "\n",
    "    x_data = nodes_embedding(G,2,0.9)\n",
    "    DD = []\n",
    "    for i in x_data.values():\n",
    "        dic = {}\n",
    "        items = []\n",
    "        for k,v in i.items():\n",
    "            items.append(k)\n",
    "            dic[len(items)-1] = float(v)\n",
    "        #dic = sorted(dic)\n",
    "        #dic = dict(collections.OrderedDict(sorted(dic.items())))\n",
    "        #print(dic)\n",
    "        DD.append(dic)\n",
    "    print(len(DD[0]))\n",
    "    embd = []\n",
    "    for i in range(len(items)):\n",
    "        embd.append([DD[0][i],DD[1][i]])#,DD[2][i]])#,DD[3][i],DD[4][i],DD[5][i],DD[6][i]])\n",
    "    #df = pd.DataFrame(embd)\n",
    "    #file = f\"./ebd{ix}.csv\"\n",
    "    df = pd.DataFrame(items)\n",
    "    file = f\"./items.csv\"\n",
    "    df.to_csv(file)\n",
    "    del G\n",
    "    del x_data\n",
    "    \n",
    "    # --------------- validation ---------------------------\n",
    "    #val_edges_name = '../../graphs/graph_val_edges_sampled_' + str(ix) + '.csv'\n",
    "\n",
    "    # compute the performance over validation set\n",
    "    #list_pred_scores_val, list_real_labels_val = collectAdarScores(G, val_edges_name)\n",
    "\n",
    "    # train and fit the deep learning model np.array(list_pred_scores).reshape(-1, 1)\n",
    "    #model = trainTheClassifier(np.array(list_pred_scores_train).reshape(-1, 1), list_real_labels_train, np.array(list_pred_scores_val).reshape(-1, 1), list_real_labels_val)\n",
    "'''\n",
    "    # --------------- test ------------------------------------\n",
    "    #test_graph_name = 'graphs/graph_test_' + str(ix) + '.gml.gz'\n",
    "    test_edges_name = '../../graphs/graph_test_edges_sampled_' + str(ix) + '.csv'\n",
    "\n",
    "    if 'adar' in method_:\n",
    "        list_pred_scores_test, list_real_labels_test = collectAdarScores(G, test_edges_name)\n",
    "    else:\n",
    "        list_pred_scores_test, list_real_labels_test = collectJaccardScores(G, test_edges_name)\n",
    "    list_pred_labels_test = classifyFeatures(np.array(list_pred_scores_test).reshape(-1, 1), model)\n",
    "\n",
    "    fo__ = open('prediction_results_test_mp_' + str(ix) + '.txt', 'w')\n",
    "    for icurrpred in range(len(list_pred_labels_test)):\n",
    "        fo__.write(str(list_pred_labels_test[icurrpred, 1]) + '\\t' + str(list_real_labels_test[icurrpred]) + '\\n')\n",
    "    fo__.close()\n",
    "    # compute the performance over test set\n",
    "    tp_t, tn_t, fp_t, fn_t = computeAccuracy(list_pred_labels_test[:, 1], list_real_labels_test)\n",
    "    acc_t = (tp_t+tn_t)/float(tp_t+tn_t+fp_t+fn_t)\n",
    "    fo.write('test\\t' + str(tp_t) + '\\t' + str(tn_t) + '\\t' + str(fp_t) + '\\t' + str(fn_t) + '\\t' + str(acc_t) + '\\n')\n",
    "    del G\n",
    "\n",
    "fo.close()\n",
    "'''"
   ]
  },
  {
   "cell_type": "code",
   "execution_count": 16,
   "id": "5b339029",
   "metadata": {
    "collapsed": true,
    "jupyter": {
     "outputs_hidden": true,
     "source_hidden": true
    },
    "tags": []
   },
   "outputs": [
    {
     "ename": "NameError",
     "evalue": "name 'x_data' is not defined",
     "output_type": "error",
     "traceback": [
      "\u001b[1;31m---------------------------------------------------------------------------\u001b[0m",
      "\u001b[1;31mNameError\u001b[0m                                 Traceback (most recent call last)",
      "\u001b[1;32m<ipython-input-16-4ddd2a84f133>\u001b[0m in \u001b[0;36m<module>\u001b[1;34m\u001b[0m\n\u001b[0;32m      1\u001b[0m \u001b[0mDD\u001b[0m \u001b[1;33m=\u001b[0m \u001b[1;33m[\u001b[0m\u001b[1;33m]\u001b[0m\u001b[1;33m\u001b[0m\u001b[1;33m\u001b[0m\u001b[0m\n\u001b[1;32m----> 2\u001b[1;33m \u001b[1;32mfor\u001b[0m \u001b[0mi\u001b[0m \u001b[1;32min\u001b[0m \u001b[0mx_data\u001b[0m\u001b[1;33m.\u001b[0m\u001b[0mvalues\u001b[0m\u001b[1;33m(\u001b[0m\u001b[1;33m)\u001b[0m\u001b[1;33m:\u001b[0m\u001b[1;33m\u001b[0m\u001b[1;33m\u001b[0m\u001b[0m\n\u001b[0m\u001b[0;32m      3\u001b[0m     \u001b[0mdic\u001b[0m \u001b[1;33m=\u001b[0m \u001b[1;33m{\u001b[0m\u001b[1;33m}\u001b[0m\u001b[1;33m\u001b[0m\u001b[1;33m\u001b[0m\u001b[0m\n\u001b[0;32m      4\u001b[0m     \u001b[0mitems\u001b[0m \u001b[1;33m=\u001b[0m \u001b[1;33m[\u001b[0m\u001b[1;33m]\u001b[0m\u001b[1;33m\u001b[0m\u001b[1;33m\u001b[0m\u001b[0m\n\u001b[0;32m      5\u001b[0m     \u001b[1;32mfor\u001b[0m \u001b[0mk\u001b[0m\u001b[1;33m,\u001b[0m\u001b[0mv\u001b[0m \u001b[1;32min\u001b[0m \u001b[0mi\u001b[0m\u001b[1;33m.\u001b[0m\u001b[0mitems\u001b[0m\u001b[1;33m(\u001b[0m\u001b[1;33m)\u001b[0m\u001b[1;33m:\u001b[0m\u001b[1;33m\u001b[0m\u001b[1;33m\u001b[0m\u001b[0m\n",
      "\u001b[1;31mNameError\u001b[0m: name 'x_data' is not defined"
     ]
    }
   ],
   "source": [
    "DD = []\n",
    "for i in x_data.values():\n",
    "    dic = {}\n",
    "    items = []\n",
    "    for k,v in i.items():\n",
    "        items.append(k)\n",
    "        dic[len(items)-1] = float(v)\n",
    "    #dic = sorted(dic)\n",
    "    #dic = dict(collections.OrderedDict(sorted(dic.items())))\n",
    "    #print(dic)\n",
    "    DD.append(dic)\n",
    "print(len(DD[0]))\n",
    "embd = []\n",
    "for i in range(len(items)):\n",
    "    embd.append([DD[0][i],DD[1][i]])#,DD[2][i]])#,DD[3][i],DD[4][i],DD[5][i],DD[6][i]])\n",
    "df = pd.DataFrame(embd)\n",
    "file = f\"./embed{ix}.csv\"\n",
    "df.to_csv(file)"
   ]
  },
  {
   "cell_type": "code",
   "execution_count": 16,
   "id": "31492440",
   "metadata": {
    "collapsed": true,
    "jupyter": {
     "outputs_hidden": true,
     "source_hidden": true
    },
    "tags": []
   },
   "outputs": [
    {
     "name": "stdout",
     "output_type": "stream",
     "text": [
      "['take', 'taskforce', 'america', 'game', 'speak', 'exceptional adulthood']\n"
     ]
    }
   ],
   "source": [
    "print(list(x_data[1].keys())[:6])"
   ]
  },
  {
   "cell_type": "code",
   "execution_count": 3,
   "id": "520e0755",
   "metadata": {
    "collapsed": true,
    "jupyter": {
     "outputs_hidden": true,
     "source_hidden": true
    },
    "tags": []
   },
   "outputs": [
    {
     "data": {
      "text/html": [
       "<div>\n",
       "<style scoped>\n",
       "    .dataframe tbody tr th:only-of-type {\n",
       "        vertical-align: middle;\n",
       "    }\n",
       "\n",
       "    .dataframe tbody tr th {\n",
       "        vertical-align: top;\n",
       "    }\n",
       "\n",
       "    .dataframe thead th {\n",
       "        text-align: right;\n",
       "    }\n",
       "</style>\n",
       "<table border=\"1\" class=\"dataframe\">\n",
       "  <thead>\n",
       "    <tr style=\"text-align: right;\">\n",
       "      <th></th>\n",
       "      <th>Unnamed: 0</th>\n",
       "      <th>0</th>\n",
       "      <th>1</th>\n",
       "    </tr>\n",
       "  </thead>\n",
       "  <tbody>\n",
       "    <tr>\n",
       "      <th>0</th>\n",
       "      <td>0</td>\n",
       "      <td>0.003640</td>\n",
       "      <td>0.002961</td>\n",
       "    </tr>\n",
       "    <tr>\n",
       "      <th>1</th>\n",
       "      <td>1</td>\n",
       "      <td>0.000045</td>\n",
       "      <td>0.000039</td>\n",
       "    </tr>\n",
       "    <tr>\n",
       "      <th>2</th>\n",
       "      <td>2</td>\n",
       "      <td>0.000116</td>\n",
       "      <td>0.000094</td>\n",
       "    </tr>\n",
       "    <tr>\n",
       "      <th>3</th>\n",
       "      <td>3</td>\n",
       "      <td>0.000689</td>\n",
       "      <td>0.000550</td>\n",
       "    </tr>\n",
       "    <tr>\n",
       "      <th>4</th>\n",
       "      <td>4</td>\n",
       "      <td>0.000313</td>\n",
       "      <td>0.000245</td>\n",
       "    </tr>\n",
       "  </tbody>\n",
       "</table>\n",
       "</div>"
      ],
      "text/plain": [
       "   Unnamed: 0         0         1\n",
       "0           0  0.003640  0.002961\n",
       "1           1  0.000045  0.000039\n",
       "2           2  0.000116  0.000094\n",
       "3           3  0.000689  0.000550\n",
       "4           4  0.000313  0.000245"
      ]
     },
     "execution_count": 3,
     "metadata": {},
     "output_type": "execute_result"
    }
   ],
   "source": [
    "df1 = pd.read_csv('embed1.csv') \n",
    "df1.head()"
   ]
  },
  {
   "cell_type": "code",
   "execution_count": 4,
   "id": "f5c62e5c",
   "metadata": {
    "collapsed": true,
    "jupyter": {
     "outputs_hidden": true,
     "source_hidden": true
    },
    "tags": []
   },
   "outputs": [
    {
     "name": "stdout",
     "output_type": "stream",
     "text": [
      " reading part 1 \n",
      " graph of     180366 node        and 385592  edge\n",
      "matrix shape :  180366 X 180366\n",
      "   matrix is normalized         \n",
      "   matrix of transaction built       \n",
      "   begin embedding         \n",
      "Embeding done in  14.083883285522461\n",
      "180366\n",
      " reading part 2 \n",
      " graph of     180366 node        and 385592  edge\n",
      "matrix shape :  180366 X 180366\n",
      "   matrix is normalized         \n",
      "   matrix of transaction built       \n",
      "   begin embedding         \n",
      "Embeding done in  17.68531370162964\n",
      "180366\n"
     ]
    },
    {
     "ename": "KeyboardInterrupt",
     "evalue": "",
     "output_type": "error",
     "traceback": [
      "\u001b[1;31m---------------------------------------------------------------------------\u001b[0m",
      "\u001b[1;31mKeyboardInterrupt\u001b[0m                         Traceback (most recent call last)",
      "\u001b[1;32m<ipython-input-4-b1df117d0738>\u001b[0m in \u001b[0;36m<module>\u001b[1;34m\u001b[0m\n\u001b[0;32m      4\u001b[0m     \u001b[1;31m# ---------------- training ----------------------\u001b[0m\u001b[1;33m\u001b[0m\u001b[1;33m\u001b[0m\u001b[1;33m\u001b[0m\u001b[0m\n\u001b[0;32m      5\u001b[0m     \u001b[0mtrain_graph_name\u001b[0m \u001b[1;33m=\u001b[0m \u001b[1;34m'../../graphs/graph_sampled_'\u001b[0m \u001b[1;33m+\u001b[0m \u001b[0mstr\u001b[0m\u001b[1;33m(\u001b[0m\u001b[0mix\u001b[0m\u001b[1;33m)\u001b[0m \u001b[1;33m+\u001b[0m \u001b[1;34m'.gml.gz'\u001b[0m\u001b[1;33m\u001b[0m\u001b[1;33m\u001b[0m\u001b[0m\n\u001b[1;32m----> 6\u001b[1;33m     \u001b[0mG\u001b[0m \u001b[1;33m=\u001b[0m \u001b[0mnx\u001b[0m\u001b[1;33m.\u001b[0m\u001b[0mread_gml\u001b[0m\u001b[1;33m(\u001b[0m\u001b[0mtrain_graph_name\u001b[0m\u001b[1;33m)\u001b[0m\u001b[1;33m\u001b[0m\u001b[1;33m\u001b[0m\u001b[0m\n\u001b[0m\u001b[0;32m      7\u001b[0m     \u001b[0mprint\u001b[0m \u001b[1;33m(\u001b[0m\u001b[1;34mf\" reading part {str(ix)} \\n graph of     {len(G.nodes())} node        and {len(G.edges())}  edge\"\u001b[0m\u001b[1;33m)\u001b[0m\u001b[1;33m\u001b[0m\u001b[1;33m\u001b[0m\u001b[0m\n\u001b[0;32m      8\u001b[0m     \u001b[1;31m#train_edges_name = '../../graphs/graph_train_edges_sampled_' + str(ix) + '.csv'\u001b[0m\u001b[1;33m\u001b[0m\u001b[1;33m\u001b[0m\u001b[1;33m\u001b[0m\u001b[0m\n",
      "\u001b[1;32m<decorator-gen-735>\u001b[0m in \u001b[0;36mread_gml\u001b[1;34m(path, label, destringizer)\u001b[0m\n",
      "\u001b[1;32m~\\Anaconda3\\envs\\graphs\\lib\\site-packages\\networkx\\utils\\decorators.py\u001b[0m in \u001b[0;36m_open_file\u001b[1;34m(func_to_be_decorated, *args, **kwargs)\u001b[0m\n\u001b[0;32m    238\u001b[0m         \u001b[1;31m# Finally, we call the original function, making sure to close the fobj\u001b[0m\u001b[1;33m\u001b[0m\u001b[1;33m\u001b[0m\u001b[1;33m\u001b[0m\u001b[0m\n\u001b[0;32m    239\u001b[0m         \u001b[1;32mtry\u001b[0m\u001b[1;33m:\u001b[0m\u001b[1;33m\u001b[0m\u001b[1;33m\u001b[0m\u001b[0m\n\u001b[1;32m--> 240\u001b[1;33m             \u001b[0mresult\u001b[0m \u001b[1;33m=\u001b[0m \u001b[0mfunc_to_be_decorated\u001b[0m\u001b[1;33m(\u001b[0m\u001b[1;33m*\u001b[0m\u001b[0mnew_args\u001b[0m\u001b[1;33m,\u001b[0m \u001b[1;33m**\u001b[0m\u001b[0mkwargs\u001b[0m\u001b[1;33m)\u001b[0m\u001b[1;33m\u001b[0m\u001b[1;33m\u001b[0m\u001b[0m\n\u001b[0m\u001b[0;32m    241\u001b[0m         \u001b[1;32mfinally\u001b[0m\u001b[1;33m:\u001b[0m\u001b[1;33m\u001b[0m\u001b[1;33m\u001b[0m\u001b[0m\n\u001b[0;32m    242\u001b[0m             \u001b[1;32mif\u001b[0m \u001b[0mclose_fobj\u001b[0m\u001b[1;33m:\u001b[0m\u001b[1;33m\u001b[0m\u001b[1;33m\u001b[0m\u001b[0m\n",
      "\u001b[1;32m~\\Anaconda3\\envs\\graphs\\lib\\site-packages\\networkx\\readwrite\\gml.py\u001b[0m in \u001b[0;36mread_gml\u001b[1;34m(path, label, destringizer)\u001b[0m\n\u001b[0;32m    216\u001b[0m             \u001b[1;32myield\u001b[0m \u001b[0mline\u001b[0m\u001b[1;33m\u001b[0m\u001b[1;33m\u001b[0m\u001b[0m\n\u001b[0;32m    217\u001b[0m \u001b[1;33m\u001b[0m\u001b[0m\n\u001b[1;32m--> 218\u001b[1;33m     \u001b[0mG\u001b[0m \u001b[1;33m=\u001b[0m \u001b[0mparse_gml_lines\u001b[0m\u001b[1;33m(\u001b[0m\u001b[0mfilter_lines\u001b[0m\u001b[1;33m(\u001b[0m\u001b[0mpath\u001b[0m\u001b[1;33m)\u001b[0m\u001b[1;33m,\u001b[0m \u001b[0mlabel\u001b[0m\u001b[1;33m,\u001b[0m \u001b[0mdestringizer\u001b[0m\u001b[1;33m)\u001b[0m\u001b[1;33m\u001b[0m\u001b[1;33m\u001b[0m\u001b[0m\n\u001b[0m\u001b[0;32m    219\u001b[0m     \u001b[1;32mreturn\u001b[0m \u001b[0mG\u001b[0m\u001b[1;33m\u001b[0m\u001b[1;33m\u001b[0m\u001b[0m\n\u001b[0;32m    220\u001b[0m \u001b[1;33m\u001b[0m\u001b[0m\n",
      "\u001b[1;32m~\\Anaconda3\\envs\\graphs\\lib\\site-packages\\networkx\\readwrite\\gml.py\u001b[0m in \u001b[0;36mparse_gml_lines\u001b[1;34m(lines, label, destringizer)\u001b[0m\n\u001b[0;32m    396\u001b[0m \u001b[1;33m\u001b[0m\u001b[0m\n\u001b[0;32m    397\u001b[0m     \u001b[0mtokens\u001b[0m \u001b[1;33m=\u001b[0m \u001b[0mtokenize\u001b[0m\u001b[1;33m(\u001b[0m\u001b[1;33m)\u001b[0m\u001b[1;33m\u001b[0m\u001b[1;33m\u001b[0m\u001b[0m\n\u001b[1;32m--> 398\u001b[1;33m     \u001b[0mgraph\u001b[0m \u001b[1;33m=\u001b[0m \u001b[0mparse_graph\u001b[0m\u001b[1;33m(\u001b[0m\u001b[1;33m)\u001b[0m\u001b[1;33m\u001b[0m\u001b[1;33m\u001b[0m\u001b[0m\n\u001b[0m\u001b[0;32m    399\u001b[0m \u001b[1;33m\u001b[0m\u001b[0m\n\u001b[0;32m    400\u001b[0m     \u001b[0mdirected\u001b[0m \u001b[1;33m=\u001b[0m \u001b[0mgraph\u001b[0m\u001b[1;33m.\u001b[0m\u001b[0mpop\u001b[0m\u001b[1;33m(\u001b[0m\u001b[1;34m'directed'\u001b[0m\u001b[1;33m,\u001b[0m \u001b[1;32mFalse\u001b[0m\u001b[1;33m)\u001b[0m\u001b[1;33m\u001b[0m\u001b[1;33m\u001b[0m\u001b[0m\n",
      "\u001b[1;32m~\\Anaconda3\\envs\\graphs\\lib\\site-packages\\networkx\\readwrite\\gml.py\u001b[0m in \u001b[0;36mparse_graph\u001b[1;34m()\u001b[0m\n\u001b[0;32m    385\u001b[0m \u001b[1;33m\u001b[0m\u001b[0m\n\u001b[0;32m    386\u001b[0m     \u001b[1;32mdef\u001b[0m \u001b[0mparse_graph\u001b[0m\u001b[1;33m(\u001b[0m\u001b[1;33m)\u001b[0m\u001b[1;33m:\u001b[0m\u001b[1;33m\u001b[0m\u001b[1;33m\u001b[0m\u001b[0m\n\u001b[1;32m--> 387\u001b[1;33m         \u001b[0mcurr_token\u001b[0m\u001b[1;33m,\u001b[0m \u001b[0mdct\u001b[0m \u001b[1;33m=\u001b[0m \u001b[0mparse_kv\u001b[0m\u001b[1;33m(\u001b[0m\u001b[0mnext\u001b[0m\u001b[1;33m(\u001b[0m\u001b[0mtokens\u001b[0m\u001b[1;33m)\u001b[0m\u001b[1;33m)\u001b[0m\u001b[1;33m\u001b[0m\u001b[1;33m\u001b[0m\u001b[0m\n\u001b[0m\u001b[0;32m    388\u001b[0m         \u001b[1;32mif\u001b[0m \u001b[0mcurr_token\u001b[0m\u001b[1;33m[\u001b[0m\u001b[1;36m0\u001b[0m\u001b[1;33m]\u001b[0m \u001b[1;32mis\u001b[0m \u001b[1;32mnot\u001b[0m \u001b[1;32mNone\u001b[0m\u001b[1;33m:\u001b[0m  \u001b[1;31m# EOF\u001b[0m\u001b[1;33m\u001b[0m\u001b[1;33m\u001b[0m\u001b[0m\n\u001b[0;32m    389\u001b[0m             \u001b[0munexpected\u001b[0m\u001b[1;33m(\u001b[0m\u001b[0mcurr_token\u001b[0m\u001b[1;33m,\u001b[0m \u001b[1;34m'EOF'\u001b[0m\u001b[1;33m)\u001b[0m\u001b[1;33m\u001b[0m\u001b[1;33m\u001b[0m\u001b[0m\n",
      "\u001b[1;32m~\\Anaconda3\\envs\\graphs\\lib\\site-packages\\networkx\\readwrite\\gml.py\u001b[0m in \u001b[0;36mparse_kv\u001b[1;34m(curr_token)\u001b[0m\n\u001b[0;32m    370\u001b[0m                 \u001b[0mcurr_token\u001b[0m \u001b[1;33m=\u001b[0m \u001b[0mnext\u001b[0m\u001b[1;33m(\u001b[0m\u001b[0mtokens\u001b[0m\u001b[1;33m)\u001b[0m\u001b[1;33m\u001b[0m\u001b[1;33m\u001b[0m\u001b[0m\n\u001b[0;32m    371\u001b[0m             \u001b[1;32melif\u001b[0m \u001b[0mcategory\u001b[0m \u001b[1;33m==\u001b[0m \u001b[1;36m4\u001b[0m\u001b[1;33m:\u001b[0m  \u001b[1;31m# dict start\u001b[0m\u001b[1;33m\u001b[0m\u001b[1;33m\u001b[0m\u001b[0m\n\u001b[1;32m--> 372\u001b[1;33m                 \u001b[0mcurr_token\u001b[0m\u001b[1;33m,\u001b[0m \u001b[0mvalue\u001b[0m \u001b[1;33m=\u001b[0m \u001b[0mparse_dict\u001b[0m\u001b[1;33m(\u001b[0m\u001b[0mcurr_token\u001b[0m\u001b[1;33m)\u001b[0m\u001b[1;33m\u001b[0m\u001b[1;33m\u001b[0m\u001b[0m\n\u001b[0m\u001b[0;32m    373\u001b[0m             \u001b[1;32melse\u001b[0m\u001b[1;33m:\u001b[0m\u001b[1;33m\u001b[0m\u001b[1;33m\u001b[0m\u001b[0m\n\u001b[0;32m    374\u001b[0m                 \u001b[0munexpected\u001b[0m\u001b[1;33m(\u001b[0m\u001b[0mcurr_token\u001b[0m\u001b[1;33m,\u001b[0m \u001b[1;34m\"an int, float, string or '['\"\u001b[0m\u001b[1;33m)\u001b[0m\u001b[1;33m\u001b[0m\u001b[1;33m\u001b[0m\u001b[0m\n",
      "\u001b[1;32m~\\Anaconda3\\envs\\graphs\\lib\\site-packages\\networkx\\readwrite\\gml.py\u001b[0m in \u001b[0;36mparse_dict\u001b[1;34m(curr_token)\u001b[0m\n\u001b[0;32m    380\u001b[0m     \u001b[1;32mdef\u001b[0m \u001b[0mparse_dict\u001b[0m\u001b[1;33m(\u001b[0m\u001b[0mcurr_token\u001b[0m\u001b[1;33m)\u001b[0m\u001b[1;33m:\u001b[0m\u001b[1;33m\u001b[0m\u001b[1;33m\u001b[0m\u001b[0m\n\u001b[0;32m    381\u001b[0m         \u001b[0mcurr_token\u001b[0m \u001b[1;33m=\u001b[0m \u001b[0mconsume\u001b[0m\u001b[1;33m(\u001b[0m\u001b[0mcurr_token\u001b[0m\u001b[1;33m,\u001b[0m \u001b[1;36m4\u001b[0m\u001b[1;33m,\u001b[0m \u001b[1;34m\"'['\"\u001b[0m\u001b[1;33m)\u001b[0m    \u001b[1;31m# dict start\u001b[0m\u001b[1;33m\u001b[0m\u001b[1;33m\u001b[0m\u001b[0m\n\u001b[1;32m--> 382\u001b[1;33m         \u001b[0mcurr_token\u001b[0m\u001b[1;33m,\u001b[0m \u001b[0mdct\u001b[0m \u001b[1;33m=\u001b[0m \u001b[0mparse_kv\u001b[0m\u001b[1;33m(\u001b[0m\u001b[0mcurr_token\u001b[0m\u001b[1;33m)\u001b[0m\u001b[1;33m\u001b[0m\u001b[1;33m\u001b[0m\u001b[0m\n\u001b[0m\u001b[0;32m    383\u001b[0m         \u001b[0mcurr_token\u001b[0m \u001b[1;33m=\u001b[0m \u001b[0mconsume\u001b[0m\u001b[1;33m(\u001b[0m\u001b[0mcurr_token\u001b[0m\u001b[1;33m,\u001b[0m \u001b[1;36m5\u001b[0m\u001b[1;33m,\u001b[0m \u001b[1;34m\"']'\"\u001b[0m\u001b[1;33m)\u001b[0m  \u001b[1;31m# dict end\u001b[0m\u001b[1;33m\u001b[0m\u001b[1;33m\u001b[0m\u001b[0m\n\u001b[0;32m    384\u001b[0m         \u001b[1;32mreturn\u001b[0m \u001b[0mcurr_token\u001b[0m\u001b[1;33m,\u001b[0m \u001b[0mdct\u001b[0m\u001b[1;33m\u001b[0m\u001b[1;33m\u001b[0m\u001b[0m\n",
      "\u001b[1;32m~\\Anaconda3\\envs\\graphs\\lib\\site-packages\\networkx\\readwrite\\gml.py\u001b[0m in \u001b[0;36mparse_kv\u001b[1;34m(curr_token)\u001b[0m\n\u001b[0;32m    356\u001b[0m         \u001b[1;32mwhile\u001b[0m \u001b[0mcurr_token\u001b[0m\u001b[1;33m[\u001b[0m\u001b[1;36m0\u001b[0m\u001b[1;33m]\u001b[0m \u001b[1;33m==\u001b[0m \u001b[1;36m0\u001b[0m\u001b[1;33m:\u001b[0m  \u001b[1;31m# keys\u001b[0m\u001b[1;33m\u001b[0m\u001b[1;33m\u001b[0m\u001b[0m\n\u001b[0;32m    357\u001b[0m             \u001b[0mkey\u001b[0m \u001b[1;33m=\u001b[0m \u001b[0mcurr_token\u001b[0m\u001b[1;33m[\u001b[0m\u001b[1;36m1\u001b[0m\u001b[1;33m]\u001b[0m\u001b[1;33m\u001b[0m\u001b[1;33m\u001b[0m\u001b[0m\n\u001b[1;32m--> 358\u001b[1;33m             \u001b[0mcurr_token\u001b[0m \u001b[1;33m=\u001b[0m \u001b[0mnext\u001b[0m\u001b[1;33m(\u001b[0m\u001b[0mtokens\u001b[0m\u001b[1;33m)\u001b[0m\u001b[1;33m\u001b[0m\u001b[1;33m\u001b[0m\u001b[0m\n\u001b[0m\u001b[0;32m    359\u001b[0m             \u001b[0mcategory\u001b[0m \u001b[1;33m=\u001b[0m \u001b[0mcurr_token\u001b[0m\u001b[1;33m[\u001b[0m\u001b[1;36m0\u001b[0m\u001b[1;33m]\u001b[0m\u001b[1;33m\u001b[0m\u001b[1;33m\u001b[0m\u001b[0m\n\u001b[0;32m    360\u001b[0m             \u001b[1;32mif\u001b[0m \u001b[0mcategory\u001b[0m \u001b[1;33m==\u001b[0m \u001b[1;36m1\u001b[0m \u001b[1;32mor\u001b[0m \u001b[0mcategory\u001b[0m \u001b[1;33m==\u001b[0m \u001b[1;36m2\u001b[0m\u001b[1;33m:\u001b[0m  \u001b[1;31m# reals or ints\u001b[0m\u001b[1;33m\u001b[0m\u001b[1;33m\u001b[0m\u001b[0m\n",
      "\u001b[1;32m~\\Anaconda3\\envs\\graphs\\lib\\site-packages\\networkx\\readwrite\\gml.py\u001b[0m in \u001b[0;36mtokenize\u001b[1;34m()\u001b[0m\n\u001b[0;32m    319\u001b[0m                 \u001b[0mmatch\u001b[0m \u001b[1;33m=\u001b[0m \u001b[0mtokens\u001b[0m\u001b[1;33m.\u001b[0m\u001b[0mmatch\u001b[0m\u001b[1;33m(\u001b[0m\u001b[0mline\u001b[0m\u001b[1;33m,\u001b[0m \u001b[0mpos\u001b[0m\u001b[1;33m)\u001b[0m\u001b[1;33m\u001b[0m\u001b[1;33m\u001b[0m\u001b[0m\n\u001b[0;32m    320\u001b[0m                 \u001b[1;32mif\u001b[0m \u001b[0mmatch\u001b[0m \u001b[1;32mis\u001b[0m \u001b[1;32mnot\u001b[0m \u001b[1;32mNone\u001b[0m\u001b[1;33m:\u001b[0m\u001b[1;33m\u001b[0m\u001b[1;33m\u001b[0m\u001b[0m\n\u001b[1;32m--> 321\u001b[1;33m                     \u001b[1;32mfor\u001b[0m \u001b[0mi\u001b[0m \u001b[1;32min\u001b[0m \u001b[0mrange\u001b[0m\u001b[1;33m(\u001b[0m\u001b[0mlen\u001b[0m\u001b[1;33m(\u001b[0m\u001b[0mpatterns\u001b[0m\u001b[1;33m)\u001b[0m\u001b[1;33m)\u001b[0m\u001b[1;33m:\u001b[0m\u001b[1;33m\u001b[0m\u001b[1;33m\u001b[0m\u001b[0m\n\u001b[0m\u001b[0;32m    322\u001b[0m                         \u001b[0mgroup\u001b[0m \u001b[1;33m=\u001b[0m \u001b[0mmatch\u001b[0m\u001b[1;33m.\u001b[0m\u001b[0mgroup\u001b[0m\u001b[1;33m(\u001b[0m\u001b[0mi\u001b[0m \u001b[1;33m+\u001b[0m \u001b[1;36m1\u001b[0m\u001b[1;33m)\u001b[0m\u001b[1;33m\u001b[0m\u001b[1;33m\u001b[0m\u001b[0m\n\u001b[0;32m    323\u001b[0m                         \u001b[1;32mif\u001b[0m \u001b[0mgroup\u001b[0m \u001b[1;32mis\u001b[0m \u001b[1;32mnot\u001b[0m \u001b[1;32mNone\u001b[0m\u001b[1;33m:\u001b[0m\u001b[1;33m\u001b[0m\u001b[1;33m\u001b[0m\u001b[0m\n",
      "\u001b[1;31mKeyboardInterrupt\u001b[0m: "
     ]
    }
   ],
   "source": [
    "items = []\n",
    "for ix in range(1, 6):#range(1, 6)\n",
    "\n",
    "    # ---------------- training ----------------------\n",
    "    train_graph_name = '../../graphs/graph_sampled_' + str(ix) + '.gml.gz'\n",
    "    G = nx.read_gml(train_graph_name)\n",
    "    print (f\" reading part {str(ix)} \\n graph of     {len(G.nodes())} node        and {len(G.edges())}  edge\")\n",
    "    #train_edges_name = '../../graphs/graph_train_edges_sampled_' + str(ix) + '.csv'\n",
    "\n",
    "    x_data = nodes_embedding(G,1,0.9)\n",
    "    DD = []\n",
    "    for i in x_data.values():\n",
    "        dic = {}\n",
    "        item = []\n",
    "        for k,v in i.items():\n",
    "            item.append(k)\n",
    "            dic[len(item)-1] = float(v)\n",
    "        #dic = sorted(dic)\n",
    "        #dic = dict(collections.OrderedDict(sorted(dic.items())))\n",
    "        #print(dic)\n",
    "        DD.append(dic)\n",
    "    print(len(DD[0]))\n",
    "    embd = []\n",
    "    for i in range(len(item)):\n",
    "        embd.append([DD[0][i]])#,DD[1][i]])#,DD[2][i]])#,DD[3][i],DD[4][i],DD[5][i],DD[6][i]])\n",
    "    df = pd.DataFrame(embd)\n",
    "    file = f\"./emb{ix}.csv\"\n",
    "    #df.to_csv(file)\n",
    "    items.append(item)\n",
    "    del G\n",
    "    del x_data"
   ]
  },
  {
   "cell_type": "code",
   "execution_count": 7,
   "id": "ee25a78d",
   "metadata": {},
   "outputs": [],
   "source": [
    "train_graph_name = '../../graphs/graph_sampled_1.gml.gz'\n",
    "G = nx.read_gml(train_graph_name)"
   ]
  },
  {
   "cell_type": "code",
   "execution_count": 3,
   "id": "495917da",
   "metadata": {},
   "outputs": [
    {
     "name": "stderr",
     "output_type": "stream",
     "text": [
      "100%|██████████████████████████████████████████████████████████████████████| 385592/385592 [00:00<00:00, 807088.56it/s]\n"
     ]
    },
    {
     "data": {
      "text/html": [
       "<div>\n",
       "<style scoped>\n",
       "    .dataframe tbody tr th:only-of-type {\n",
       "        vertical-align: middle;\n",
       "    }\n",
       "\n",
       "    .dataframe tbody tr th {\n",
       "        vertical-align: top;\n",
       "    }\n",
       "\n",
       "    .dataframe thead th {\n",
       "        text-align: right;\n",
       "    }\n",
       "</style>\n",
       "<table border=\"1\" class=\"dataframe\">\n",
       "  <thead>\n",
       "    <tr style=\"text-align: right;\">\n",
       "      <th></th>\n",
       "      <th>node_1</th>\n",
       "      <th>node_2</th>\n",
       "    </tr>\n",
       "  </thead>\n",
       "  <tbody>\n",
       "    <tr>\n",
       "      <th>0</th>\n",
       "      <td>take</td>\n",
       "      <td>poverty</td>\n",
       "    </tr>\n",
       "    <tr>\n",
       "      <th>1</th>\n",
       "      <td>take</td>\n",
       "      <td>laboratory station</td>\n",
       "    </tr>\n",
       "    <tr>\n",
       "      <th>2</th>\n",
       "      <td>take</td>\n",
       "      <td>drug database</td>\n",
       "    </tr>\n",
       "    <tr>\n",
       "      <th>3</th>\n",
       "      <td>take</td>\n",
       "      <td>docking</td>\n",
       "    </tr>\n",
       "    <tr>\n",
       "      <th>4</th>\n",
       "      <td>take</td>\n",
       "      <td>benazepril</td>\n",
       "    </tr>\n",
       "  </tbody>\n",
       "</table>\n",
       "</div>"
      ],
      "text/plain": [
       "  node_1              node_2\n",
       "0   take             poverty\n",
       "1   take  laboratory station\n",
       "2   take       drug database\n",
       "3   take             docking\n",
       "4   take          benazepril"
      ]
     },
     "execution_count": 3,
     "metadata": {},
     "output_type": "execute_result"
    }
   ],
   "source": [
    "node_list_1 = []\n",
    "node_list_2 = []\n",
    "\n",
    "for i in tqdm(G.edges()):\n",
    "    #print(i)\n",
    "    node_list_1.append(i[0])\n",
    "    node_list_2.append(i[1])\n",
    "\n",
    "G_df = pd.DataFrame({'node_1': node_list_1, 'node_2': node_list_2})\n",
    "\n",
    "G_df.head()\n"
   ]
  },
  {
   "cell_type": "code",
   "execution_count": 4,
   "id": "1f628875",
   "metadata": {},
   "outputs": [],
   "source": [
    "# combine all nodes in a list\n",
    "node_list = node_list_1 + node_list_2\n",
    "\n",
    "# remove duplicate items from the list\n",
    "node_list = list(dict.fromkeys(node_list))\n",
    "\n",
    "# build adjacency matrix\n",
    "M = adjacency_matrix(G,nodelist=G.nodes())\n",
    "#adj_G = nx.to_numpy_matrix(G, nodelist = node_list)"
   ]
  },
  {
   "cell_type": "code",
   "execution_count": 5,
   "id": "0d015463",
   "metadata": {},
   "outputs": [
    {
     "data": {
      "text/plain": [
       "networkx.classes.reportviews.NodeView"
      ]
     },
     "execution_count": 5,
     "metadata": {},
     "output_type": "execute_result"
    }
   ],
   "source": [
    "type(G.nodes())"
   ]
  },
  {
   "cell_type": "code",
   "execution_count": 7,
   "id": "6534e7a4",
   "metadata": {
    "collapsed": true,
    "jupyter": {
     "outputs_hidden": true
    },
    "tags": []
   },
   "outputs": [
    {
     "name": "stderr",
     "output_type": "stream",
     "text": [
      "  0%|                                                                                       | 0/180366 [00:00<?, ?it/s]\n"
     ]
    },
    {
     "ename": "NameError",
     "evalue": "name 'items' is not defined",
     "output_type": "error",
     "traceback": [
      "\u001b[1;31m---------------------------------------------------------------------------\u001b[0m",
      "\u001b[1;31mNameError\u001b[0m                                 Traceback (most recent call last)",
      "\u001b[1;32m<ipython-input-7-1739147582e2>\u001b[0m in \u001b[0;36m<module>\u001b[1;34m\u001b[0m\n\u001b[0;32m      9\u001b[0m         \u001b[1;31m#if i != j:\u001b[0m\u001b[1;33m\u001b[0m\u001b[1;33m\u001b[0m\u001b[1;33m\u001b[0m\u001b[0m\n\u001b[0;32m     10\u001b[0m         \u001b[1;32mif\u001b[0m \u001b[0mM\u001b[0m\u001b[1;33m[\u001b[0m\u001b[0mi\u001b[0m\u001b[1;33m,\u001b[0m\u001b[0mj\u001b[0m\u001b[1;33m]\u001b[0m \u001b[1;33m==\u001b[0m \u001b[1;36m0\u001b[0m\u001b[1;33m:\u001b[0m\u001b[1;33m\u001b[0m\u001b[1;33m\u001b[0m\u001b[0m\n\u001b[1;32m---> 11\u001b[1;33m             \u001b[0mall_unconnected_pairs\u001b[0m\u001b[1;33m.\u001b[0m\u001b[0mappend\u001b[0m\u001b[1;33m(\u001b[0m\u001b[1;33m[\u001b[0m\u001b[0mitems\u001b[0m\u001b[1;33m[\u001b[0m\u001b[1;36m0\u001b[0m\u001b[1;33m]\u001b[0m\u001b[1;33m[\u001b[0m\u001b[0mi\u001b[0m\u001b[1;33m]\u001b[0m\u001b[1;33m,\u001b[0m\u001b[0mitems\u001b[0m\u001b[1;33m[\u001b[0m\u001b[1;36m0\u001b[0m\u001b[1;33m]\u001b[0m\u001b[1;33m[\u001b[0m\u001b[0mj\u001b[0m\u001b[1;33m]\u001b[0m\u001b[1;33m]\u001b[0m\u001b[1;33m)\u001b[0m\u001b[1;33m\u001b[0m\u001b[1;33m\u001b[0m\u001b[0m\n\u001b[0m\u001b[0;32m     12\u001b[0m     \u001b[0moffset\u001b[0m \u001b[1;33m=\u001b[0m \u001b[0moffset\u001b[0m \u001b[1;33m+\u001b[0m \u001b[1;36m1\u001b[0m\u001b[1;33m\u001b[0m\u001b[1;33m\u001b[0m\u001b[0m\n\u001b[0;32m     13\u001b[0m \u001b[1;33m\u001b[0m\u001b[0m\n",
      "\u001b[1;31mNameError\u001b[0m: name 'items' is not defined"
     ]
    }
   ],
   "source": [
    "all_unconnected_pairs = []\n",
    "\n",
    "\n",
    "offset = 0\n",
    "M = M.tolil()\n",
    "for i in tqdm(range(M.shape[0])):\n",
    "    for j in range(offset,M.shape[1]):\n",
    "        #print(M[i,j])\n",
    "        #if i != j:\n",
    "        if M[i,j] == 0:\n",
    "            all_unconnected_pairs.append([items[0][i],items[0][j]])\n",
    "    offset = offset + 1\n",
    "\n",
    "'''\n",
    "            if nx.has_path(G, items[0][i], items[0][j]):\n",
    "                #if nx.shortest_path(G, items[0][i], items[0][j]):\n",
    "                if nx.shortest_path_length(G, items[0][i], items[0][j]) <=2:\n",
    "                    if M[i,j] == 0:\n",
    "                        all_unconnected_pairs.append([items[0][i],items[0][j]])\n",
    "\n",
    "    \n",
    "'''"
   ]
  },
  {
   "cell_type": "code",
   "execution_count": 2,
   "id": "b24b9a6e",
   "metadata": {},
   "outputs": [],
   "source": [
    "train_edges_name = '../../graphs/graph_train_edges_sampled_1.csv'\n",
    "df_train = pd.read_csv(train_edges_name)"
   ]
  },
  {
   "cell_type": "code",
   "execution_count": 3,
   "id": "b753b9e3",
   "metadata": {
    "tags": []
   },
   "outputs": [],
   "source": [
    "item = pd.read_csv('items.csv')"
   ]
  },
  {
   "cell_type": "code",
   "execution_count": 4,
   "id": "2fb59ff5",
   "metadata": {},
   "outputs": [
    {
     "data": {
      "text/html": [
       "<div>\n",
       "<style scoped>\n",
       "    .dataframe tbody tr th:only-of-type {\n",
       "        vertical-align: middle;\n",
       "    }\n",
       "\n",
       "    .dataframe tbody tr th {\n",
       "        vertical-align: top;\n",
       "    }\n",
       "\n",
       "    .dataframe thead th {\n",
       "        text-align: right;\n",
       "    }\n",
       "</style>\n",
       "<table border=\"1\" class=\"dataframe\">\n",
       "  <thead>\n",
       "    <tr style=\"text-align: right;\">\n",
       "      <th></th>\n",
       "      <th>Unnamed: 0</th>\n",
       "      <th>0</th>\n",
       "    </tr>\n",
       "  </thead>\n",
       "  <tbody>\n",
       "    <tr>\n",
       "      <th>0</th>\n",
       "      <td>0</td>\n",
       "      <td>take</td>\n",
       "    </tr>\n",
       "    <tr>\n",
       "      <th>1</th>\n",
       "      <td>1</td>\n",
       "      <td>taskforce</td>\n",
       "    </tr>\n",
       "    <tr>\n",
       "      <th>2</th>\n",
       "      <td>2</td>\n",
       "      <td>america</td>\n",
       "    </tr>\n",
       "    <tr>\n",
       "      <th>3</th>\n",
       "      <td>3</td>\n",
       "      <td>game</td>\n",
       "    </tr>\n",
       "    <tr>\n",
       "      <th>4</th>\n",
       "      <td>4</td>\n",
       "      <td>speak</td>\n",
       "    </tr>\n",
       "  </tbody>\n",
       "</table>\n",
       "</div>"
      ],
      "text/plain": [
       "   Unnamed: 0          0\n",
       "0           0       take\n",
       "1           1  taskforce\n",
       "2           2    america\n",
       "3           3       game\n",
       "4           4      speak"
      ]
     },
     "execution_count": 4,
     "metadata": {},
     "output_type": "execute_result"
    }
   ],
   "source": [
    "item.head()"
   ]
  },
  {
   "cell_type": "code",
   "execution_count": 5,
   "id": "642a37e2",
   "metadata": {},
   "outputs": [
    {
     "data": {
      "text/html": [
       "<div>\n",
       "<style scoped>\n",
       "    .dataframe tbody tr th:only-of-type {\n",
       "        vertical-align: middle;\n",
       "    }\n",
       "\n",
       "    .dataframe tbody tr th {\n",
       "        vertical-align: top;\n",
       "    }\n",
       "\n",
       "    .dataframe thead th {\n",
       "        text-align: right;\n",
       "    }\n",
       "</style>\n",
       "<table border=\"1\" class=\"dataframe\">\n",
       "  <thead>\n",
       "    <tr style=\"text-align: right;\">\n",
       "      <th></th>\n",
       "      <th>Unnamed: 0</th>\n",
       "      <th>node1</th>\n",
       "      <th>node2</th>\n",
       "      <th>labels</th>\n",
       "    </tr>\n",
       "  </thead>\n",
       "  <tbody>\n",
       "    <tr>\n",
       "      <th>0</th>\n",
       "      <td>0</td>\n",
       "      <td>concept</td>\n",
       "      <td>sewage-based epidemiology</td>\n",
       "      <td>1</td>\n",
       "    </tr>\n",
       "    <tr>\n",
       "      <th>1</th>\n",
       "      <td>1</td>\n",
       "      <td>tissue</td>\n",
       "      <td>adaptive immunity</td>\n",
       "      <td>1</td>\n",
       "    </tr>\n",
       "    <tr>\n",
       "      <th>2</th>\n",
       "      <td>2</td>\n",
       "      <td>advance</td>\n",
       "      <td>sequencing technology</td>\n",
       "      <td>1</td>\n",
       "    </tr>\n",
       "    <tr>\n",
       "      <th>3</th>\n",
       "      <td>3</td>\n",
       "      <td>overtrained state</td>\n",
       "      <td>dynamic complex system</td>\n",
       "      <td>0</td>\n",
       "    </tr>\n",
       "    <tr>\n",
       "      <th>4</th>\n",
       "      <td>4</td>\n",
       "      <td>self-assembly review</td>\n",
       "      <td>wet condition</td>\n",
       "      <td>0</td>\n",
       "    </tr>\n",
       "  </tbody>\n",
       "</table>\n",
       "</div>"
      ],
      "text/plain": [
       "   Unnamed: 0                 node1                      node2  labels\n",
       "0           0               concept  sewage-based epidemiology       1\n",
       "1           1                tissue          adaptive immunity       1\n",
       "2           2               advance      sequencing technology       1\n",
       "3           3     overtrained state     dynamic complex system       0\n",
       "4           4  self-assembly review              wet condition       0"
      ]
     },
     "execution_count": 5,
     "metadata": {},
     "output_type": "execute_result"
    }
   ],
   "source": [
    "df_train.head()"
   ]
  },
  {
   "cell_type": "code",
   "execution_count": 6,
   "id": "73928fd7",
   "metadata": {},
   "outputs": [
    {
     "data": {
      "text/html": [
       "<div>\n",
       "<style scoped>\n",
       "    .dataframe tbody tr th:only-of-type {\n",
       "        vertical-align: middle;\n",
       "    }\n",
       "\n",
       "    .dataframe tbody tr th {\n",
       "        vertical-align: top;\n",
       "    }\n",
       "\n",
       "    .dataframe thead th {\n",
       "        text-align: right;\n",
       "    }\n",
       "</style>\n",
       "<table border=\"1\" class=\"dataframe\">\n",
       "  <thead>\n",
       "    <tr style=\"text-align: right;\">\n",
       "      <th></th>\n",
       "      <th>Unnamed: 0</th>\n",
       "      <th>0</th>\n",
       "      <th>1</th>\n",
       "    </tr>\n",
       "  </thead>\n",
       "  <tbody>\n",
       "    <tr>\n",
       "      <th>0</th>\n",
       "      <td>0</td>\n",
       "      <td>0.003640</td>\n",
       "      <td>0.002961</td>\n",
       "    </tr>\n",
       "    <tr>\n",
       "      <th>1</th>\n",
       "      <td>1</td>\n",
       "      <td>0.000045</td>\n",
       "      <td>0.000039</td>\n",
       "    </tr>\n",
       "    <tr>\n",
       "      <th>2</th>\n",
       "      <td>2</td>\n",
       "      <td>0.000116</td>\n",
       "      <td>0.000094</td>\n",
       "    </tr>\n",
       "    <tr>\n",
       "      <th>3</th>\n",
       "      <td>3</td>\n",
       "      <td>0.000689</td>\n",
       "      <td>0.000550</td>\n",
       "    </tr>\n",
       "    <tr>\n",
       "      <th>4</th>\n",
       "      <td>4</td>\n",
       "      <td>0.000313</td>\n",
       "      <td>0.000245</td>\n",
       "    </tr>\n",
       "  </tbody>\n",
       "</table>\n",
       "</div>"
      ],
      "text/plain": [
       "   Unnamed: 0         0         1\n",
       "0           0  0.003640  0.002961\n",
       "1           1  0.000045  0.000039\n",
       "2           2  0.000116  0.000094\n",
       "3           3  0.000689  0.000550\n",
       "4           4  0.000313  0.000245"
      ]
     },
     "execution_count": 6,
     "metadata": {},
     "output_type": "execute_result"
    }
   ],
   "source": [
    "data = pd.read_csv('embed1.csv')\n",
    "data.head()"
   ]
  },
  {
   "cell_type": "code",
   "execution_count": 7,
   "id": "5b843d1e",
   "metadata": {},
   "outputs": [],
   "source": [
    "data['Unnamed: 0'] = item[\"0\"]"
   ]
  },
  {
   "cell_type": "code",
   "execution_count": 8,
   "id": "1254cc23",
   "metadata": {},
   "outputs": [
    {
     "data": {
      "text/html": [
       "<div>\n",
       "<style scoped>\n",
       "    .dataframe tbody tr th:only-of-type {\n",
       "        vertical-align: middle;\n",
       "    }\n",
       "\n",
       "    .dataframe tbody tr th {\n",
       "        vertical-align: top;\n",
       "    }\n",
       "\n",
       "    .dataframe thead th {\n",
       "        text-align: right;\n",
       "    }\n",
       "</style>\n",
       "<table border=\"1\" class=\"dataframe\">\n",
       "  <thead>\n",
       "    <tr style=\"text-align: right;\">\n",
       "      <th></th>\n",
       "      <th>Unnamed: 0</th>\n",
       "      <th>0</th>\n",
       "      <th>1</th>\n",
       "    </tr>\n",
       "  </thead>\n",
       "  <tbody>\n",
       "    <tr>\n",
       "      <th>0</th>\n",
       "      <td>take</td>\n",
       "      <td>0.003640</td>\n",
       "      <td>0.002961</td>\n",
       "    </tr>\n",
       "    <tr>\n",
       "      <th>1</th>\n",
       "      <td>taskforce</td>\n",
       "      <td>0.000045</td>\n",
       "      <td>0.000039</td>\n",
       "    </tr>\n",
       "    <tr>\n",
       "      <th>2</th>\n",
       "      <td>america</td>\n",
       "      <td>0.000116</td>\n",
       "      <td>0.000094</td>\n",
       "    </tr>\n",
       "    <tr>\n",
       "      <th>3</th>\n",
       "      <td>game</td>\n",
       "      <td>0.000689</td>\n",
       "      <td>0.000550</td>\n",
       "    </tr>\n",
       "    <tr>\n",
       "      <th>4</th>\n",
       "      <td>speak</td>\n",
       "      <td>0.000313</td>\n",
       "      <td>0.000245</td>\n",
       "    </tr>\n",
       "  </tbody>\n",
       "</table>\n",
       "</div>"
      ],
      "text/plain": [
       "  Unnamed: 0         0         1\n",
       "0       take  0.003640  0.002961\n",
       "1  taskforce  0.000045  0.000039\n",
       "2    america  0.000116  0.000094\n",
       "3       game  0.000689  0.000550\n",
       "4      speak  0.000313  0.000245"
      ]
     },
     "execution_count": 8,
     "metadata": {},
     "output_type": "execute_result"
    }
   ],
   "source": [
    "data.head()"
   ]
  },
  {
   "cell_type": "code",
   "execution_count": 9,
   "id": "908d84c7",
   "metadata": {},
   "outputs": [],
   "source": [
    "items = list(item[\"0\"])"
   ]
  },
  {
   "cell_type": "code",
   "execution_count": 13,
   "id": "01a32dae",
   "metadata": {
    "tags": []
   },
   "outputs": [
    {
     "name": "stderr",
     "output_type": "stream",
     "text": [
      " 12%|████████▋                                                                 | 45171/385977 [03:57<29:38, 191.67it/s]"
     ]
    },
    {
     "name": "stdout",
     "output_type": "stream",
     "text": [
      "node1 :   nan           node2 :learning machine\n"
     ]
    },
    {
     "name": "stderr",
     "output_type": "stream",
     "text": [
      " 13%|█████████▋                                                                | 50374/385977 [04:27<29:41, 188.39it/s]"
     ]
    },
    {
     "name": "stdout",
     "output_type": "stream",
     "text": [
      "node1 :   nan           node2 :water blood\n"
     ]
    },
    {
     "name": "stderr",
     "output_type": "stream",
     "text": [
      " 15%|███████████▏                                                              | 58470/385977 [05:13<28:16, 193.00it/s]"
     ]
    },
    {
     "name": "stdout",
     "output_type": "stream",
     "text": [
      "node1 :   association           node2 :nan\n"
     ]
    },
    {
     "name": "stderr",
     "output_type": "stream",
     "text": [
      " 19%|██████████████▎                                                           | 74795/385977 [06:45<27:45, 186.88it/s]"
     ]
    },
    {
     "name": "stdout",
     "output_type": "stream",
     "text": [
      "node1 :   nan           node2 :cd44\n"
     ]
    },
    {
     "name": "stderr",
     "output_type": "stream",
     "text": [
      " 21%|███████████████▍                                                          | 80305/385977 [07:16<26:36, 191.46it/s]"
     ]
    },
    {
     "name": "stdout",
     "output_type": "stream",
     "text": [
      "node1 :   nan           node2 :prg4\n"
     ]
    },
    {
     "name": "stderr",
     "output_type": "stream",
     "text": [
      " 34%|████████████████████████▍                                                | 129497/385977 [12:00<22:10, 192.72it/s]"
     ]
    },
    {
     "name": "stdout",
     "output_type": "stream",
     "text": [
      "node1 :   hiv status           node2 :nan\n"
     ]
    },
    {
     "name": "stderr",
     "output_type": "stream",
     "text": [
      " 68%|█████████████████████████████████████████████████▍                       | 261163/385977 [24:16<12:09, 171.00it/s]"
     ]
    },
    {
     "name": "stdout",
     "output_type": "stream",
     "text": [
      "node1 :   protein ubiquitination           node2 :nan\n"
     ]
    },
    {
     "name": "stderr",
     "output_type": "stream",
     "text": [
      " 70%|███████████████████████████████████████████████████▏                     | 270849/385977 [25:12<11:38, 164.91it/s]"
     ]
    },
    {
     "name": "stdout",
     "output_type": "stream",
     "text": [
      "node1 :   nan           node2 :case isolation\n"
     ]
    },
    {
     "name": "stderr",
     "output_type": "stream",
     "text": [
      " 86%|███████████████████████████████████████████████████████████████▏         | 333778/385977 [31:19<05:00, 173.83it/s]"
     ]
    },
    {
     "name": "stdout",
     "output_type": "stream",
     "text": [
      "node1 :   evidence           node2 :nan\n"
     ]
    },
    {
     "name": "stderr",
     "output_type": "stream",
     "text": [
      "100%|█████████████████████████████████████████████████████████████████████████| 385977/385977 [36:33<00:00, 175.98it/s]"
     ]
    },
    {
     "name": "stdout",
     "output_type": "stream",
     "text": [
      "385968\n"
     ]
    },
    {
     "name": "stderr",
     "output_type": "stream",
     "text": [
      "\n"
     ]
    }
   ],
   "source": [
    "df_train = pd.read_csv(train_edges_name)\n",
    "df_train = df_train.replace(np.nan, 'nan', regex=True)\n",
    "list_real_labels = []\n",
    "list_pred_scores = []\n",
    "count = 0\n",
    "links = 0\n",
    "for i_row in tqdm(range(len(df_train.node1))): # for each training set data\n",
    "    node1 = df_train.node1[i_row]\n",
    "    node2 = df_train.node2[i_row]\n",
    "    #print(count)\n",
    "    count = count + 1\n",
    "    #print(f\"{node1}   {node2}\")\n",
    "    if(node1=='nan' or node2=='nan'):\n",
    "        print('node1 :   '+str(node1)+'           node2 :'+str(node2))\n",
    "        continue     \n",
    "    # Find all nbrs of node1 and node2 in training graph that overlap\n",
    "    #list_nbrs = sorted(nx.common_neighbors(G, node1, node2))\n",
    "\n",
    "    #total_sum = 0\n",
    "    # if list_nbrs isn't empty, find the weights of all the edges connected to the nbrs\n",
    "    #for i in range(len(list_nbrs)):\n",
    "    #   curr_weight = G.degree(list_nbrs[i], weight='weight')\n",
    "    #    total_sum += -1/np.log(curr_weight)\n",
    "\n",
    "    #\n",
    "    \n",
    "    a = data.loc[items.index(node1)][1]\n",
    "    #print (a)\n",
    "    b = data.loc[items.index(node2)][1]\n",
    "    #print (b)\n",
    "    c = data.loc[items.index(node1)][2]  \n",
    "    #print (c)\n",
    "    d = data.loc[items.index(node2)][2]\n",
    "    #print (d)\n",
    "    list_real_labels.append(df_train.labels[i_row])\n",
    "    list_pred_scores.append([a+b,c+d])\n",
    "    links +=1\n",
    "    \n",
    "print(links)"
   ]
  },
  {
   "cell_type": "code",
   "execution_count": 18,
   "id": "ff5fe8ac",
   "metadata": {},
   "outputs": [],
   "source": [
    "all_data = pd.DataFrame(zip(list_pred_scores,list_real_labels))"
   ]
  },
  {
   "cell_type": "code",
   "execution_count": 20,
   "id": "4513dcf9",
   "metadata": {},
   "outputs": [],
   "source": [
    "all_data.to_csv('all_data.csv')"
   ]
  },
  {
   "cell_type": "code",
   "execution_count": 10,
   "id": "fe5d5dd4-efdd-463c-9201-5df1b324ccc1",
   "metadata": {},
   "outputs": [],
   "source": [
    "all_data = pd.read_csv('all_data.csv')"
   ]
  },
  {
   "cell_type": "code",
   "execution_count": 11,
   "id": "84bd4e37",
   "metadata": {},
   "outputs": [
    {
     "ename": "NameError",
     "evalue": "name 'count' is not defined",
     "output_type": "error",
     "traceback": [
      "\u001b[1;31m---------------------------------------------------------------------------\u001b[0m",
      "\u001b[1;31mNameError\u001b[0m                                 Traceback (most recent call last)",
      "\u001b[1;32m<ipython-input-11-b6fd486da617>\u001b[0m in \u001b[0;36m<module>\u001b[1;34m\u001b[0m\n\u001b[0;32m      3\u001b[0m \u001b[0mnode2\u001b[0m \u001b[1;33m=\u001b[0m \u001b[0mdf_train\u001b[0m\u001b[1;33m.\u001b[0m\u001b[0mnode2\u001b[0m\u001b[1;33m[\u001b[0m\u001b[1;33m:\u001b[0m\u001b[1;36m100\u001b[0m\u001b[1;33m]\u001b[0m\u001b[1;33m\u001b[0m\u001b[1;33m\u001b[0m\u001b[0m\n\u001b[0;32m      4\u001b[0m \u001b[1;31m#print(count)\u001b[0m\u001b[1;33m\u001b[0m\u001b[1;33m\u001b[0m\u001b[1;33m\u001b[0m\u001b[0m\n\u001b[1;32m----> 5\u001b[1;33m \u001b[0mcount\u001b[0m \u001b[1;33m=\u001b[0m \u001b[0mcount\u001b[0m \u001b[1;33m+\u001b[0m \u001b[1;36m1\u001b[0m\u001b[1;33m\u001b[0m\u001b[1;33m\u001b[0m\u001b[0m\n\u001b[0m\u001b[0;32m      6\u001b[0m \u001b[0mprint\u001b[0m\u001b[1;33m(\u001b[0m\u001b[1;34mf\"{node1}   {node2}\"\u001b[0m\u001b[1;33m)\u001b[0m\u001b[1;33m\u001b[0m\u001b[1;33m\u001b[0m\u001b[0m\n",
      "\u001b[1;31mNameError\u001b[0m: name 'count' is not defined"
     ]
    }
   ],
   "source": [
    "# for each training set data\n",
    "node1 = df_train.node1[:100]\n",
    "node2 = df_train.node2[:100]\n",
    "#print(count)\n",
    "count = count + 1\n",
    "print(f\"{node1}   {node2}\")"
   ]
  },
  {
   "cell_type": "code",
   "execution_count": 12,
   "id": "42951642",
   "metadata": {},
   "outputs": [
    {
     "name": "stdout",
     "output_type": "stream",
     "text": [
      "2.1598391903534312e-05\n"
     ]
    }
   ],
   "source": [
    "print(data.loc[items.index(df_train.node1[9])][1])"
   ]
  },
  {
   "cell_type": "markdown",
   "id": "fdbf25d4",
   "metadata": {},
   "source": [
    "<h1>data</h1>"
   ]
  },
  {
   "cell_type": "code",
   "execution_count": 13,
   "id": "769f4ab5",
   "metadata": {},
   "outputs": [
    {
     "data": {
      "text/html": [
       "<div>\n",
       "<style scoped>\n",
       "    .dataframe tbody tr th:only-of-type {\n",
       "        vertical-align: middle;\n",
       "    }\n",
       "\n",
       "    .dataframe tbody tr th {\n",
       "        vertical-align: top;\n",
       "    }\n",
       "\n",
       "    .dataframe thead th {\n",
       "        text-align: right;\n",
       "    }\n",
       "</style>\n",
       "<table border=\"1\" class=\"dataframe\">\n",
       "  <thead>\n",
       "    <tr style=\"text-align: right;\">\n",
       "      <th></th>\n",
       "      <th>Unnamed: 0</th>\n",
       "      <th>0</th>\n",
       "      <th>1</th>\n",
       "    </tr>\n",
       "  </thead>\n",
       "  <tbody>\n",
       "    <tr>\n",
       "      <th>0</th>\n",
       "      <td>0</td>\n",
       "      <td>[0.00356625739699922, 0.0027306399032904]</td>\n",
       "      <td>1</td>\n",
       "    </tr>\n",
       "    <tr>\n",
       "      <th>1</th>\n",
       "      <td>1</td>\n",
       "      <td>[0.0020819222243952506, 0.0007408251879191296]</td>\n",
       "      <td>1</td>\n",
       "    </tr>\n",
       "    <tr>\n",
       "      <th>2</th>\n",
       "      <td>2</td>\n",
       "      <td>[0.0006256529013015892, 0.0002373182085459]</td>\n",
       "      <td>1</td>\n",
       "    </tr>\n",
       "    <tr>\n",
       "      <th>3</th>\n",
       "      <td>3</td>\n",
       "      <td>[3.474998679482063e-06, 0.0]</td>\n",
       "      <td>0</td>\n",
       "    </tr>\n",
       "    <tr>\n",
       "      <th>4</th>\n",
       "      <td>4</td>\n",
       "      <td>[3.95946301762555e-06, 1.4353060324953249e-06]</td>\n",
       "      <td>0</td>\n",
       "    </tr>\n",
       "  </tbody>\n",
       "</table>\n",
       "</div>"
      ],
      "text/plain": [
       "   Unnamed: 0                                               0  1\n",
       "0           0       [0.00356625739699922, 0.0027306399032904]  1\n",
       "1           1  [0.0020819222243952506, 0.0007408251879191296]  1\n",
       "2           2     [0.0006256529013015892, 0.0002373182085459]  1\n",
       "3           3                    [3.474998679482063e-06, 0.0]  0\n",
       "4           4  [3.95946301762555e-06, 1.4353060324953249e-06]  0"
      ]
     },
     "execution_count": 13,
     "metadata": {},
     "output_type": "execute_result"
    }
   ],
   "source": [
    "x = pd.read_csv(\"all_data.csv\")\n",
    "x.head()"
   ]
  },
  {
   "cell_type": "code",
   "execution_count": 14,
   "id": "22866c57",
   "metadata": {},
   "outputs": [
    {
     "name": "stderr",
     "output_type": "stream",
     "text": [
      "100%|███████████████████████████████████████████████████████████████████████| 385968/385968 [00:08<00:00, 43704.13it/s]\n"
     ]
    }
   ],
   "source": [
    "x_data = []\n",
    "y_data = []\n",
    "for i in tqdm(range(len(x))):\n",
    "    x_data.append([float(x['0'][i].replace('[','').replace(']',\"\").split(',')[0]),float(x['0'][i].replace('[','').replace(']',\"\").split(',')[1])])\n",
    "    y_data.append(x['1'][i])"
   ]
  },
  {
   "cell_type": "code",
   "execution_count": 15,
   "id": "827dfc53",
   "metadata": {},
   "outputs": [],
   "source": [
    "xtrain, xtest, ytrain, ytest = train_test_split(x_data, y_data, \n",
    "                                                test_size = 0.3, \n",
    "                                                random_state = 35)"
   ]
  },
  {
   "cell_type": "code",
   "execution_count": null,
   "id": "07873337-4420-4c21-bf6f-fcf2c8714694",
   "metadata": {},
   "outputs": [],
   "source": []
  },
  {
   "cell_type": "code",
   "execution_count": 17,
   "id": "cded28c8-7aca-4c47-bfe6-de49b52d25a3",
   "metadata": {},
   "outputs": [],
   "source": [
    "from sklearn.metrics import accuracy_score,recall_score,precision_score,f1_score\n",
    "from sklearn.metrics import confusion_matrix"
   ]
  },
  {
   "cell_type": "code",
   "execution_count": 73,
   "id": "3b689d66-9ca2-4b8f-a867-1878793fdc86",
   "metadata": {},
   "outputs": [],
   "source": [
    "accu = []\n",
    "prec = []\n",
    "recc = []\n",
    "f1   = []\n",
    "models =[]"
   ]
  },
  {
   "cell_type": "code",
   "execution_count": 82,
   "id": "940b08b1-659f-4d23-a78c-37395f34d6b6",
   "metadata": {},
   "outputs": [],
   "source": [
    "models =[]"
   ]
  },
  {
   "cell_type": "markdown",
   "id": "b0fcb11c",
   "metadata": {},
   "source": [
    "<h1>Logistic Regression<\\h1>"
   ]
  },
  {
   "cell_type": "code",
   "execution_count": 18,
   "id": "573dee81",
   "metadata": {},
   "outputs": [
    {
     "data": {
      "text/plain": [
       "LogisticRegression(class_weight='balanced')"
      ]
     },
     "execution_count": 18,
     "metadata": {},
     "output_type": "execute_result"
    }
   ],
   "source": [
    "lr = LogisticRegression(class_weight=\"balanced\")\n",
    "\n",
    "lr.fit(xtrain, ytrain)"
   ]
  },
  {
   "cell_type": "code",
   "execution_count": 19,
   "id": "6d79d23b",
   "metadata": {},
   "outputs": [],
   "source": [
    "lr_pred = lr.predict(xtest)"
   ]
  },
  {
   "cell_type": "code",
   "execution_count": 7,
   "id": "5536ff9b",
   "metadata": {},
   "outputs": [
    {
     "data": {
      "text/plain": [
       "0.7815115164391014"
      ]
     },
     "execution_count": 7,
     "metadata": {},
     "output_type": "execute_result"
    }
   ],
   "source": [
    "accuracy_score(ytest, lr_pred)"
   ]
  },
  {
   "cell_type": "code",
   "execution_count": 20,
   "id": "b6f247dd-d156-4cda-99bc-6afed90b885e",
   "metadata": {},
   "outputs": [
    {
     "name": "stdout",
     "output_type": "stream",
     "text": [
      "Accuracy Score : 0.7815115164391014\n",
      "Precision Score : 0.9928597143885756\n",
      "Recall Score : 0.5690654285959935\n",
      "F1 Score : 0.7234689081508848\n",
      "Confusion Matrix : \n",
      "[[57398   238]\n",
      " [25061 33094]]\n"
     ]
    }
   ],
   "source": [
    "print('Accuracy Score : ' + str(accuracy_score(ytest, lr_pred)))\n",
    "print('Precision Score : ' + str(precision_score(ytest,lr_pred)))\n",
    "print('Recall Score : ' + str(recall_score(ytest,lr_pred)))\n",
    "print('F1 Score : ' + str(f1_score(ytest,lr_pred)))\n",
    "\n",
    "#Dummy Classifier Confusion matrix\n",
    "\n",
    "print('Confusion Matrix : \\n' + str(confusion_matrix(ytest,lr_pred)))"
   ]
  },
  {
   "cell_type": "code",
   "execution_count": 74,
   "id": "684963e4-b959-4934-8e01-102164cfcc91",
   "metadata": {},
   "outputs": [],
   "source": [
    "accu.append(accuracy_score(ytest, lr_pred))\n",
    "prec.append(precision_score(ytest,lr_pred))\n",
    "recc.append(recall_score(ytest,lr_pred))\n",
    "f1.append(f1_score(ytest,lr_pred))"
   ]
  },
  {
   "cell_type": "code",
   "execution_count": 86,
   "id": "a928cc7b-e197-449c-81d9-f8b00d56daa6",
   "metadata": {},
   "outputs": [],
   "source": [
    "models.append(\"Logistic Regression\" )"
   ]
  },
  {
   "cell_type": "markdown",
   "id": "35b01201",
   "metadata": {},
   "source": [
    "<h1>lgbm<\\h1>"
   ]
  },
  {
   "cell_type": "markdown",
   "id": "ea5052ba",
   "metadata": {},
   "source": [
    "[22]\tvalid_0's auc: 0.971098"
   ]
  },
  {
   "cell_type": "code",
   "execution_count": 21,
   "id": "900588fd",
   "metadata": {
    "collapsed": true,
    "jupyter": {
     "outputs_hidden": true
    },
    "tags": []
   },
   "outputs": [
    {
     "name": "stdout",
     "output_type": "stream",
     "text": [
      "[LightGBM] [Info] Number of positive: 134822, number of negative: 135355\n",
      "[LightGBM] [Warning] Auto-choosing row-wise multi-threading, the overhead of testing was 0.001305 seconds.\n",
      "You can set `force_row_wise=true` to remove the overhead.\n",
      "And if memory is not enough, you can set `force_col_wise=true`.\n",
      "[LightGBM] [Info] Total Bins 510\n",
      "[LightGBM] [Info] Number of data points in the train set: 270177, number of used features: 2\n",
      "[LightGBM] [Info] [binary:BoostFromScore]: pavg=0.499014 -> initscore=-0.003946\n",
      "[LightGBM] [Info] Start training from score -0.003946\n",
      "[1]\tvalid_0's auc: 0.970811\n",
      "Training until validation scores don't improve for 20 rounds\n",
      "[2]\tvalid_0's auc: 0.970835\n",
      "[3]\tvalid_0's auc: 0.970865\n",
      "[4]\tvalid_0's auc: 0.970865\n",
      "[5]\tvalid_0's auc: 0.970927\n",
      "[6]\tvalid_0's auc: 0.970927\n",
      "[7]\tvalid_0's auc: 0.97093\n",
      "[8]\tvalid_0's auc: 0.970931\n",
      "[9]\tvalid_0's auc: 0.970931\n",
      "[10]\tvalid_0's auc: 0.970937\n",
      "[11]\tvalid_0's auc: 0.971056\n",
      "[12]\tvalid_0's auc: 0.971057\n",
      "[13]\tvalid_0's auc: 0.971056\n",
      "[14]\tvalid_0's auc: 0.971048\n",
      "[15]\tvalid_0's auc: 0.971047\n",
      "[16]\tvalid_0's auc: 0.971029\n",
      "[17]\tvalid_0's auc: 0.971029\n",
      "[18]\tvalid_0's auc: 0.971031\n",
      "[19]\tvalid_0's auc: 0.971049\n",
      "[20]\tvalid_0's auc: 0.971049\n",
      "[21]\tvalid_0's auc: 0.971075\n",
      "[22]\tvalid_0's auc: 0.971098\n",
      "[23]\tvalid_0's auc: 0.971054\n",
      "[24]\tvalid_0's auc: 0.971061\n",
      "[25]\tvalid_0's auc: 0.971054\n",
      "[26]\tvalid_0's auc: 0.971011\n",
      "[27]\tvalid_0's auc: 0.971019\n",
      "[28]\tvalid_0's auc: 0.971026\n",
      "[29]\tvalid_0's auc: 0.971024\n",
      "[30]\tvalid_0's auc: 0.97103\n",
      "[31]\tvalid_0's auc: 0.971027\n",
      "[32]\tvalid_0's auc: 0.971021\n",
      "[33]\tvalid_0's auc: 0.971028\n",
      "[34]\tvalid_0's auc: 0.971019\n",
      "[35]\tvalid_0's auc: 0.971018\n",
      "[36]\tvalid_0's auc: 0.971016\n",
      "[37]\tvalid_0's auc: 0.971007\n",
      "[38]\tvalid_0's auc: 0.971006\n",
      "[39]\tvalid_0's auc: 0.971001\n",
      "[40]\tvalid_0's auc: 0.970999\n",
      "[41]\tvalid_0's auc: 0.970984\n",
      "[42]\tvalid_0's auc: 0.970983\n",
      "Early stopping, best iteration is:\n",
      "[22]\tvalid_0's auc: 0.971098\n"
     ]
    }
   ],
   "source": [
    "import lightgbm as lgbm\n",
    "\n",
    "train_data = lgbm.Dataset(xtrain, ytrain)\n",
    "test_data = lgbm.Dataset(xtest, ytest)\n",
    "\n",
    "# define parameters\n",
    "parameters = {\n",
    "    'objective': 'binary',\n",
    "    'metric': 'auc',\n",
    "    'is_unbalance': 'true',\n",
    "    'feature_fraction': 0.5,\n",
    "    'bagging_fraction': 0.5,\n",
    "    'bagging_freq': 20,\n",
    "    'num_threads' : 2,\n",
    "    'seed' : 76\n",
    "}\n",
    "\n",
    "# train lightGBM model\n",
    "model = lgbm.train(parameters,\n",
    "                   train_data,\n",
    "                   valid_sets=test_data,\n",
    "                   num_boost_round=1000,\n",
    "                   early_stopping_rounds=20)"
   ]
  },
  {
   "cell_type": "code",
   "execution_count": 23,
   "id": "7cb9ee82-23ff-44a8-b2c2-ed8cd5e8156b",
   "metadata": {
    "collapsed": true,
    "jupyter": {
     "outputs_hidden": true
    },
    "tags": []
   },
   "outputs": [
    {
     "ename": "TypeError",
     "evalue": "eval() missing 2 required positional arguments: 'data' and 'name'",
     "output_type": "error",
     "traceback": [
      "\u001b[1;31m---------------------------------------------------------------------------\u001b[0m",
      "\u001b[1;31mTypeError\u001b[0m                                 Traceback (most recent call last)",
      "\u001b[1;32m<ipython-input-23-67f96fad7f04>\u001b[0m in \u001b[0;36m<module>\u001b[1;34m\u001b[0m\n\u001b[1;32m----> 1\u001b[1;33m \u001b[0mmodel\u001b[0m\u001b[1;33m.\u001b[0m\u001b[0meval\u001b[0m\u001b[1;33m(\u001b[0m\u001b[1;33m)\u001b[0m\u001b[1;33m\u001b[0m\u001b[1;33m\u001b[0m\u001b[0m\n\u001b[0m",
      "\u001b[1;31mTypeError\u001b[0m: eval() missing 2 required positional arguments: 'data' and 'name'"
     ]
    }
   ],
   "source": [
    "model.eval(xtest)"
   ]
  },
  {
   "cell_type": "code",
   "execution_count": 22,
   "id": "7184b8fe",
   "metadata": {
    "collapsed": true,
    "jupyter": {
     "outputs_hidden": true
    },
    "tags": []
   },
   "outputs": [
    {
     "ename": "ValueError",
     "evalue": "Classification metrics can't handle a mix of binary and continuous targets",
     "output_type": "error",
     "traceback": [
      "\u001b[1;31m---------------------------------------------------------------------------\u001b[0m",
      "\u001b[1;31mValueError\u001b[0m                                Traceback (most recent call last)",
      "\u001b[1;32m<ipython-input-22-7996f0faa0b2>\u001b[0m in \u001b[0;36m<module>\u001b[1;34m\u001b[0m\n\u001b[0;32m      1\u001b[0m \u001b[0mlgbm_pred\u001b[0m \u001b[1;33m=\u001b[0m \u001b[0mmodel\u001b[0m\u001b[1;33m.\u001b[0m\u001b[0mpredict\u001b[0m\u001b[1;33m(\u001b[0m\u001b[0mxtest\u001b[0m\u001b[1;33m,\u001b[0m \u001b[0mnum_iteration\u001b[0m\u001b[1;33m=\u001b[0m\u001b[0mmodel\u001b[0m\u001b[1;33m.\u001b[0m\u001b[0mbest_iteration\u001b[0m\u001b[1;33m)\u001b[0m\u001b[1;33m\u001b[0m\u001b[1;33m\u001b[0m\u001b[0m\n\u001b[1;32m----> 2\u001b[1;33m \u001b[0maccuracy_score\u001b[0m\u001b[1;33m(\u001b[0m\u001b[0mytest\u001b[0m\u001b[1;33m,\u001b[0m\u001b[0mlgbm_pred\u001b[0m\u001b[1;33m)\u001b[0m\u001b[1;33m\u001b[0m\u001b[1;33m\u001b[0m\u001b[0m\n\u001b[0m",
      "\u001b[1;32m~\\Anaconda3\\envs\\graphs\\lib\\site-packages\\sklearn\\utils\\validation.py\u001b[0m in \u001b[0;36minner_f\u001b[1;34m(*args, **kwargs)\u001b[0m\n\u001b[0;32m     61\u001b[0m             \u001b[0mextra_args\u001b[0m \u001b[1;33m=\u001b[0m \u001b[0mlen\u001b[0m\u001b[1;33m(\u001b[0m\u001b[0margs\u001b[0m\u001b[1;33m)\u001b[0m \u001b[1;33m-\u001b[0m \u001b[0mlen\u001b[0m\u001b[1;33m(\u001b[0m\u001b[0mall_args\u001b[0m\u001b[1;33m)\u001b[0m\u001b[1;33m\u001b[0m\u001b[1;33m\u001b[0m\u001b[0m\n\u001b[0;32m     62\u001b[0m             \u001b[1;32mif\u001b[0m \u001b[0mextra_args\u001b[0m \u001b[1;33m<=\u001b[0m \u001b[1;36m0\u001b[0m\u001b[1;33m:\u001b[0m\u001b[1;33m\u001b[0m\u001b[1;33m\u001b[0m\u001b[0m\n\u001b[1;32m---> 63\u001b[1;33m                 \u001b[1;32mreturn\u001b[0m \u001b[0mf\u001b[0m\u001b[1;33m(\u001b[0m\u001b[1;33m*\u001b[0m\u001b[0margs\u001b[0m\u001b[1;33m,\u001b[0m \u001b[1;33m**\u001b[0m\u001b[0mkwargs\u001b[0m\u001b[1;33m)\u001b[0m\u001b[1;33m\u001b[0m\u001b[1;33m\u001b[0m\u001b[0m\n\u001b[0m\u001b[0;32m     64\u001b[0m \u001b[1;33m\u001b[0m\u001b[0m\n\u001b[0;32m     65\u001b[0m             \u001b[1;31m# extra_args > 0\u001b[0m\u001b[1;33m\u001b[0m\u001b[1;33m\u001b[0m\u001b[1;33m\u001b[0m\u001b[0m\n",
      "\u001b[1;32m~\\Anaconda3\\envs\\graphs\\lib\\site-packages\\sklearn\\metrics\\_classification.py\u001b[0m in \u001b[0;36maccuracy_score\u001b[1;34m(y_true, y_pred, normalize, sample_weight)\u001b[0m\n\u001b[0;32m    200\u001b[0m \u001b[1;33m\u001b[0m\u001b[0m\n\u001b[0;32m    201\u001b[0m     \u001b[1;31m# Compute accuracy for each possible representation\u001b[0m\u001b[1;33m\u001b[0m\u001b[1;33m\u001b[0m\u001b[1;33m\u001b[0m\u001b[0m\n\u001b[1;32m--> 202\u001b[1;33m     \u001b[0my_type\u001b[0m\u001b[1;33m,\u001b[0m \u001b[0my_true\u001b[0m\u001b[1;33m,\u001b[0m \u001b[0my_pred\u001b[0m \u001b[1;33m=\u001b[0m \u001b[0m_check_targets\u001b[0m\u001b[1;33m(\u001b[0m\u001b[0my_true\u001b[0m\u001b[1;33m,\u001b[0m \u001b[0my_pred\u001b[0m\u001b[1;33m)\u001b[0m\u001b[1;33m\u001b[0m\u001b[1;33m\u001b[0m\u001b[0m\n\u001b[0m\u001b[0;32m    203\u001b[0m     \u001b[0mcheck_consistent_length\u001b[0m\u001b[1;33m(\u001b[0m\u001b[0my_true\u001b[0m\u001b[1;33m,\u001b[0m \u001b[0my_pred\u001b[0m\u001b[1;33m,\u001b[0m \u001b[0msample_weight\u001b[0m\u001b[1;33m)\u001b[0m\u001b[1;33m\u001b[0m\u001b[1;33m\u001b[0m\u001b[0m\n\u001b[0;32m    204\u001b[0m     \u001b[1;32mif\u001b[0m \u001b[0my_type\u001b[0m\u001b[1;33m.\u001b[0m\u001b[0mstartswith\u001b[0m\u001b[1;33m(\u001b[0m\u001b[1;34m'multilabel'\u001b[0m\u001b[1;33m)\u001b[0m\u001b[1;33m:\u001b[0m\u001b[1;33m\u001b[0m\u001b[1;33m\u001b[0m\u001b[0m\n",
      "\u001b[1;32m~\\Anaconda3\\envs\\graphs\\lib\\site-packages\\sklearn\\metrics\\_classification.py\u001b[0m in \u001b[0;36m_check_targets\u001b[1;34m(y_true, y_pred)\u001b[0m\n\u001b[0;32m     91\u001b[0m     \u001b[1;32mif\u001b[0m \u001b[0mlen\u001b[0m\u001b[1;33m(\u001b[0m\u001b[0my_type\u001b[0m\u001b[1;33m)\u001b[0m \u001b[1;33m>\u001b[0m \u001b[1;36m1\u001b[0m\u001b[1;33m:\u001b[0m\u001b[1;33m\u001b[0m\u001b[1;33m\u001b[0m\u001b[0m\n\u001b[0;32m     92\u001b[0m         raise ValueError(\"Classification metrics can't handle a mix of {0} \"\n\u001b[1;32m---> 93\u001b[1;33m                          \"and {1} targets\".format(type_true, type_pred))\n\u001b[0m\u001b[0;32m     94\u001b[0m \u001b[1;33m\u001b[0m\u001b[0m\n\u001b[0;32m     95\u001b[0m     \u001b[1;31m# We can't have more than one value on y_type => The set is no more needed\u001b[0m\u001b[1;33m\u001b[0m\u001b[1;33m\u001b[0m\u001b[1;33m\u001b[0m\u001b[0m\n",
      "\u001b[1;31mValueError\u001b[0m: Classification metrics can't handle a mix of binary and continuous targets"
     ]
    }
   ],
   "source": [
    "lgbm_pred = model.predict(xtest, num_iteration=model.best_iteration)\n",
    "accuracy_score(ytest,lgbm_pred)"
   ]
  },
  {
   "cell_type": "markdown",
   "id": "84d54437",
   "metadata": {},
   "source": [
    "# Gaussian naive_bayes "
   ]
  },
  {
   "cell_type": "code",
   "execution_count": 24,
   "id": "3664dda2",
   "metadata": {},
   "outputs": [],
   "source": [
    "from sklearn.naive_bayes import GaussianNB"
   ]
  },
  {
   "cell_type": "code",
   "execution_count": 25,
   "id": "a661c73e",
   "metadata": {},
   "outputs": [
    {
     "data": {
      "text/plain": [
       "0.747683325992521"
      ]
     },
     "execution_count": 25,
     "metadata": {},
     "output_type": "execute_result"
    }
   ],
   "source": [
    "gnb = GaussianNB()\n",
    "nb_pred = gnb.fit(xtrain, ytrain).predict(xtest)\n",
    "\n",
    "\n",
    "accuracy_score(ytest,nb_pred)"
   ]
  },
  {
   "cell_type": "code",
   "execution_count": 26,
   "id": "69311b4d-6788-4ced-a531-9ea9e1083bbb",
   "metadata": {},
   "outputs": [
    {
     "name": "stdout",
     "output_type": "stream",
     "text": [
      "Accuracy Score : 0.747683325992521\n",
      "Precision Score : 0.9940925388424108\n",
      "Recall Score : 0.5005932421975754\n",
      "F1 Score : 0.6658737419945105\n",
      "Confusion Matrix : \n",
      "[[57463   173]\n",
      " [29043 29112]]\n"
     ]
    }
   ],
   "source": [
    "print('Accuracy Score : ' + str(accuracy_score(ytest, nb_pred)))\n",
    "print('Precision Score : ' + str(precision_score(ytest,nb_pred)))\n",
    "print('Recall Score : ' + str(recall_score(ytest,nb_pred)))\n",
    "print('F1 Score : ' + str(f1_score(ytest,nb_pred)))\n",
    "\n",
    "#Dummy Classifier Confusion matrix\n",
    "\n",
    "print('Confusion Matrix : \\n' + str(confusion_matrix(ytest,nb_pred)))"
   ]
  },
  {
   "cell_type": "code",
   "execution_count": 75,
   "id": "dbb7f861-bc22-433b-b905-6c062c860098",
   "metadata": {},
   "outputs": [],
   "source": [
    "accu.append(accuracy_score(ytest, nb_pred))\n",
    "prec.append(precision_score(ytest,nb_pred))\n",
    "recc.append(recall_score(ytest,nb_pred))\n",
    "f1.append(f1_score(ytest,nb_pred))"
   ]
  },
  {
   "cell_type": "code",
   "execution_count": 87,
   "id": "26912f49-cb19-4ff4-8033-82cce084c615",
   "metadata": {},
   "outputs": [],
   "source": [
    "models.append(\"Gaussian naive_bayes\" )"
   ]
  },
  {
   "cell_type": "markdown",
   "id": "1c60b568",
   "metadata": {},
   "source": [
    "# SVM"
   ]
  },
  {
   "cell_type": "code",
   "execution_count": 27,
   "id": "507f1045",
   "metadata": {},
   "outputs": [],
   "source": [
    "from sklearn import svm"
   ]
  },
  {
   "cell_type": "code",
   "execution_count": 28,
   "id": "082fd612",
   "metadata": {},
   "outputs": [
    {
     "data": {
      "text/plain": [
       "SVC()"
      ]
     },
     "execution_count": 28,
     "metadata": {},
     "output_type": "execute_result"
    }
   ],
   "source": [
    "clf = svm.SVC()\n",
    "clf.fit(xtrain,ytrain)"
   ]
  },
  {
   "cell_type": "code",
   "execution_count": 30,
   "id": "cd47dc2a",
   "metadata": {},
   "outputs": [],
   "source": [
    "svm_pred = clf.predict(xtest)"
   ]
  },
  {
   "cell_type": "code",
   "execution_count": 31,
   "id": "7376ba3d",
   "metadata": {},
   "outputs": [
    {
     "name": "stdout",
     "output_type": "stream",
     "text": [
      "Accuracy Score : 0.917169728217219\n",
      "Precision Score : 0.9743689927326717\n",
      "Recall Score : 0.8576390680079099\n",
      "F1 Score : 0.9122851942968457\n",
      "Confusion Matrix : \n",
      "[[56324  1312]\n",
      " [ 8279 49876]]\n"
     ]
    }
   ],
   "source": [
    "print('Accuracy Score : ' + str(accuracy_score(ytest, svm_pred)))\n",
    "print('Precision Score : ' + str(precision_score(ytest,svm_pred)))\n",
    "print('Recall Score : ' + str(recall_score(ytest,svm_pred)))\n",
    "print('F1 Score : ' + str(f1_score(ytest,svm_pred)))\n",
    "\n",
    "#Dummy Classifier Confusion matrix\n",
    "\n",
    "print('Confusion Matrix : \\n' + str(confusion_matrix(ytest,svm_pred)))"
   ]
  },
  {
   "cell_type": "code",
   "execution_count": 76,
   "id": "94641c3b-37a2-4d26-a6c7-18bee40cc6d2",
   "metadata": {},
   "outputs": [],
   "source": [
    "accu.append(accuracy_score(ytest, svm_pred))\n",
    "prec.append(precision_score(ytest,svm_pred))\n",
    "recc.append(recall_score(ytest,svm_pred))\n",
    "f1.append(f1_score(ytest,svm_pred))"
   ]
  },
  {
   "cell_type": "code",
   "execution_count": 88,
   "id": "208263a1-a5b5-4617-b897-44c138dfe799",
   "metadata": {},
   "outputs": [],
   "source": [
    "models.append(\"SVM\" )"
   ]
  },
  {
   "cell_type": "code",
   "execution_count": null,
   "id": "bf727e97-f05d-4dcf-92af-51a771cdc2af",
   "metadata": {},
   "outputs": [],
   "source": [
    "params_grid = [{'kernel': ['rbf','linear','poly','sigmoid']}]#, 'gamma': [1e-3, 1e-4],'C': [1, 10, 100, 1000]}, {'kernel': ['linear'], 'C': [1, 10, 100, 1000]}]\n",
    "svm_model = GridSearchCV(svm.SVC(), params_grid, cv=5)\n",
    "svm_model.fit(xtrain,ytrain)"
   ]
  },
  {
   "cell_type": "markdown",
   "id": "19359920-894c-4fde-9e51-a717bc45b0d2",
   "metadata": {},
   "source": [
    "# DecisionTreeClassifier"
   ]
  },
  {
   "cell_type": "code",
   "execution_count": 33,
   "id": "c526b63e-21d2-49a1-9e15-55ab38633fd4",
   "metadata": {},
   "outputs": [],
   "source": [
    "DT = DecisionTreeClassifier().fit(xtrain,ytrain)"
   ]
  },
  {
   "cell_type": "code",
   "execution_count": 34,
   "id": "12467214-b267-4511-a073-0ef97ef28722",
   "metadata": {},
   "outputs": [],
   "source": [
    "dt_pred = DT.predict(xtest)"
   ]
  },
  {
   "cell_type": "code",
   "execution_count": 36,
   "id": "38fe8ac2-648a-4604-af33-6be7109699f6",
   "metadata": {},
   "outputs": [
    {
     "name": "stdout",
     "output_type": "stream",
     "text": [
      "Accuracy Score : 0.9223687505937421\n",
      "Precision Score : 0.9568311900691295\n",
      "Recall Score : 0.885375290172814\n",
      "F1 Score : 0.9197174167388605\n",
      "Confusion Matrix : \n",
      "[[55313  2323]\n",
      " [ 6666 51489]]\n"
     ]
    }
   ],
   "source": [
    "print('Accuracy Score : ' + str(accuracy_score(ytest, dt_pred)))\n",
    "print('Precision Score : ' + str(precision_score(ytest,dt_pred)))\n",
    "print('Recall Score : ' + str(recall_score(ytest,dt_pred)))\n",
    "print('F1 Score : ' + str(f1_score(ytest,dt_pred)))\n",
    "\n",
    "#Dummy Classifier Confusion matrix\n",
    "\n",
    "print('Confusion Matrix : \\n' + str(confusion_matrix(ytest,dt_pred)))"
   ]
  },
  {
   "cell_type": "code",
   "execution_count": 77,
   "id": "9af746ec-b6ef-481f-b320-830a489f96bf",
   "metadata": {},
   "outputs": [],
   "source": [
    "accu.append(accuracy_score(ytest, dt_pred))\n",
    "prec.append(precision_score(ytest,dt_pred))\n",
    "recc.append(recall_score(ytest,dt_pred))\n",
    "f1.append(f1_score(ytest,dt_pred))"
   ]
  },
  {
   "cell_type": "code",
   "execution_count": 89,
   "id": "0c20926b-02f0-48a4-a9e6-fa54aff7b128",
   "metadata": {},
   "outputs": [],
   "source": [
    "models.append(\"Decision Tree\" )"
   ]
  },
  {
   "cell_type": "markdown",
   "id": "9e9c4928-5aa2-4605-8dd3-c9efe2383a9c",
   "metadata": {},
   "source": [
    "# Random forrest\n"
   ]
  },
  {
   "cell_type": "code",
   "execution_count": 37,
   "id": "1732babb-5389-4929-96f3-f5a0334cba44",
   "metadata": {},
   "outputs": [],
   "source": [
    "RF = RandomForestClassifier().fit(xtrain,ytrain)"
   ]
  },
  {
   "cell_type": "code",
   "execution_count": 38,
   "id": "2c0f093d-3e09-4539-899f-1d8bff46a569",
   "metadata": {},
   "outputs": [],
   "source": [
    "rf_pred = RF.predict(xtest)"
   ]
  },
  {
   "cell_type": "code",
   "execution_count": 39,
   "id": "8d4494be-f789-4eae-92b2-bd77c5129b3f",
   "metadata": {},
   "outputs": [
    {
     "name": "stdout",
     "output_type": "stream",
     "text": [
      "Accuracy Score : 0.9291741154321148\n",
      "Precision Score : 0.9584449910062038\n",
      "Recall Score : 0.8979107557389734\n",
      "F1 Score : 0.927190887541394\n",
      "Confusion Matrix : \n",
      "[[55372  2264]\n",
      " [ 5937 52218]]\n"
     ]
    }
   ],
   "source": [
    "print('Accuracy Score : ' + str(accuracy_score(ytest, rf_pred)))\n",
    "print('Precision Score : ' + str(precision_score(ytest,rf_pred)))\n",
    "print('Recall Score : ' + str(recall_score(ytest,rf_pred)))\n",
    "print('F1 Score : ' + str(f1_score(ytest,rf_pred)))\n",
    "\n",
    "#Dummy Classifier Confusion matrix\n",
    "\n",
    "print('Confusion Matrix : \\n' + str(confusion_matrix(ytest,rf_pred)))"
   ]
  },
  {
   "cell_type": "code",
   "execution_count": 78,
   "id": "9e8cae92-d0dc-41a9-bf56-cfecf237dfef",
   "metadata": {},
   "outputs": [],
   "source": [
    "accu.append(accuracy_score(ytest, rf_pred))\n",
    "prec.append(precision_score(ytest,rf_pred))\n",
    "recc.append(recall_score(ytest,rf_pred))\n",
    "f1.append(f1_score(ytest,rf_pred))"
   ]
  },
  {
   "cell_type": "code",
   "execution_count": 90,
   "id": "2a05d335-ff5a-491c-8ed3-279389d97458",
   "metadata": {},
   "outputs": [],
   "source": [
    "models.append(\"Random forrest\" )"
   ]
  },
  {
   "cell_type": "markdown",
   "id": "263835d0-b329-4eff-8078-1ca60d375976",
   "metadata": {},
   "source": [
    "# MLPClassifier"
   ]
  },
  {
   "cell_type": "code",
   "execution_count": 45,
   "id": "7275e278-f8ba-41c5-a28a-f3474bebb309",
   "metadata": {},
   "outputs": [],
   "source": [
    "MLP = MLPClassifier().fit(xtrain,ytrain)"
   ]
  },
  {
   "cell_type": "code",
   "execution_count": 46,
   "id": "6c86c497-7746-4fcd-84ec-dfb321d0537d",
   "metadata": {},
   "outputs": [],
   "source": [
    "mlp_pred = MLP.predict(xtest)"
   ]
  },
  {
   "cell_type": "code",
   "execution_count": 47,
   "id": "441f6673-a278-4579-b1ff-28ef65c247af",
   "metadata": {},
   "outputs": [
    {
     "name": "stdout",
     "output_type": "stream",
     "text": [
      "Accuracy Score : 0.9332504253353024\n",
      "Precision Score : 0.9520240955215318\n",
      "Recall Score : 0.9131115123377181\n",
      "F1 Score : 0.9321618846163973\n",
      "Confusion Matrix : \n",
      "[[54960  2676]\n",
      " [ 5053 53102]]\n"
     ]
    }
   ],
   "source": [
    "print('Accuracy Score : ' + str(accuracy_score(ytest, mlp_pred)))\n",
    "print('Precision Score : ' + str(precision_score(ytest,mlp_pred)))\n",
    "print('Recall Score : ' + str(recall_score(ytest,mlp_pred)))\n",
    "print('F1 Score : ' + str(f1_score(ytest,mlp_pred)))\n",
    "\n",
    "#Dummy Classifier Confusion matrix\n",
    "\n",
    "print('Confusion Matrix : \\n' + str(confusion_matrix(ytest,mlp_pred)))"
   ]
  },
  {
   "cell_type": "code",
   "execution_count": 79,
   "id": "4680f332-495e-4226-9db4-ef8bd3fadd17",
   "metadata": {},
   "outputs": [],
   "source": [
    "accu.append(accuracy_score(ytest, mlp_pred))\n",
    "prec.append(precision_score(ytest,mlp_pred))\n",
    "recc.append(recall_score(ytest,mlp_pred))\n",
    "f1.append(f1_score(ytest,mlp_pred))"
   ]
  },
  {
   "cell_type": "code",
   "execution_count": 91,
   "id": "d2e4a803-e809-450d-874c-2a859297ccd2",
   "metadata": {},
   "outputs": [],
   "source": [
    "models.append(\"MLP NN\" )"
   ]
  },
  {
   "cell_type": "markdown",
   "id": "8114685a-dbab-4f13-899d-20095c9eaac9",
   "metadata": {},
   "source": [
    "# AdaBoostClassifier"
   ]
  },
  {
   "cell_type": "code",
   "execution_count": 48,
   "id": "b815caee-f24d-47c7-89c1-a8aa1deb6eed",
   "metadata": {},
   "outputs": [],
   "source": [
    "AB = AdaBoostClassifier().fit(xtrain,ytrain)"
   ]
  },
  {
   "cell_type": "code",
   "execution_count": 49,
   "id": "a86688fa-7fac-4e47-9411-debaa3b90145",
   "metadata": {},
   "outputs": [],
   "source": [
    "ab_pred = AB.predict(xtest)"
   ]
  },
  {
   "cell_type": "code",
   "execution_count": 50,
   "id": "a87c7711-14c0-49d4-a6f0-83d5cfb35270",
   "metadata": {},
   "outputs": [
    {
     "name": "stdout",
     "output_type": "stream",
     "text": [
      "Accuracy Score : 0.9332417890855075\n",
      "Precision Score : 0.9499420005353797\n",
      "Recall Score : 0.9153125268678531\n",
      "F1 Score : 0.9323058061126194\n",
      "Confusion Matrix : \n",
      "[[54831  2805]\n",
      " [ 4925 53230]]\n"
     ]
    }
   ],
   "source": [
    "print('Accuracy Score : ' + str(accuracy_score(ytest, ab_pred)))\n",
    "print('Precision Score : ' + str(precision_score(ytest,ab_pred)))\n",
    "print('Recall Score : ' + str(recall_score(ytest,ab_pred)))\n",
    "print('F1 Score : ' + str(f1_score(ytest,ab_pred)))\n",
    "\n",
    "#Dummy Classifier Confusion matrix\n",
    "\n",
    "print('Confusion Matrix : \\n' + str(confusion_matrix(ytest,ab_pred)))"
   ]
  },
  {
   "cell_type": "code",
   "execution_count": 80,
   "id": "886735aa-4505-4f9e-af85-a5104b64fce7",
   "metadata": {},
   "outputs": [],
   "source": [
    "accu.append(accuracy_score(ytest, ab_pred))\n",
    "prec.append(precision_score(ytest,ab_pred))\n",
    "recc.append(recall_score(ytest,ab_pred))\n",
    "f1.append(f1_score(ytest,ab_pred))"
   ]
  },
  {
   "cell_type": "code",
   "execution_count": 92,
   "id": "732be525-49b5-43b8-9926-65f626648c78",
   "metadata": {},
   "outputs": [],
   "source": [
    "models.append(\"Adaptive boosting\" )"
   ]
  },
  {
   "cell_type": "code",
   "execution_count": null,
   "id": "2968939b-1ed6-43c3-ac65-a5137b8f0838",
   "metadata": {},
   "outputs": [],
   "source": []
  },
  {
   "cell_type": "code",
   "execution_count": 93,
   "id": "4b1bd8b5-5726-412b-9de1-f62922dc062b",
   "metadata": {},
   "outputs": [
    {
     "data": {
      "text/plain": [
       "['Logistic Regression',\n",
       " 'Gaussian naive_bayes',\n",
       " 'SVM',\n",
       " 'Decision Tree',\n",
       " 'Random forrest',\n",
       " 'MLP NN',\n",
       " 'Adaptive boosting']"
      ]
     },
     "execution_count": 93,
     "metadata": {},
     "output_type": "execute_result"
    }
   ],
   "source": [
    "models"
   ]
  },
  {
   "cell_type": "code",
   "execution_count": 81,
   "id": "d7c3696d-77db-44e0-a2a1-a54441bb61a8",
   "metadata": {},
   "outputs": [
    {
     "data": {
      "text/plain": [
       "[0.7815115164391014,\n",
       " 0.747683325992521,\n",
       " 0.917169728217219,\n",
       " 0.9223687505937421,\n",
       " 0.9291741154321148,\n",
       " 0.9332504253353024,\n",
       " 0.9332417890855075]"
      ]
     },
     "execution_count": 81,
     "metadata": {},
     "output_type": "execute_result"
    }
   ],
   "source": [
    "accu"
   ]
  },
  {
   "cell_type": "code",
   "execution_count": 61,
   "id": "ecc842a9-e4a4-479c-a656-5a725c62c0a4",
   "metadata": {},
   "outputs": [],
   "source": [
    "DF = pd.DataFrame(y_data)\n",
    "per_class = DF.value_counts()"
   ]
  },
  {
   "cell_type": "code",
   "execution_count": 71,
   "id": "ce21584e-c4bf-425f-b42a-3de6a4d05297",
   "metadata": {},
   "outputs": [
    {
     "data": {
      "text/plain": [
       "192977"
      ]
     },
     "execution_count": 71,
     "metadata": {},
     "output_type": "execute_result"
    }
   ],
   "source": [
    "per_class[1]"
   ]
  },
  {
   "cell_type": "code",
   "execution_count": 72,
   "id": "055adbf2-9950-42b9-b720-0f886cb53df7",
   "metadata": {},
   "outputs": [
    {
     "data": {
      "image/png": "[encoded data removed]",
      "text/plain": [
       "<Figure size 720x720 with 1 Axes>"
      ]
     },
     "metadata": {},
     "output_type": "display_data"
    }
   ],
   "source": [
    "plt.figure(figsize=(10,10))\n",
    "my_circle=plt.Circle( (0,0), 0.7, color='white')\n",
    "plt.pie(per_class, labels=[f\"possitive samples = {per_class[0]}\",f\"negative samples =  {per_class[1]}\"  ], colors=['tab:orange','tab:green'],autopct='%1.1f%%')\n",
    "p=plt.gcf()\n",
    "p.gca().add_artist(my_circle)\n",
    "plt.savefig('cycle.png')\n",
    "plt.show()"
   ]
  },
  {
   "cell_type": "code",
   "execution_count": 101,
   "id": "1248eaca-0bf6-4fc4-875c-bbe93e8b79c1",
   "metadata": {},
   "outputs": [
    {
     "data": {
      "image/png": "[encoded data removed]",
      "text/plain": [
       "<Figure size 720x720 with 1 Axes>"
      ]
     },
     "metadata": {
      "needs_background": "light"
     },
     "output_type": "display_data"
    }
   ],
   "source": [
    "\n",
    "  \n",
    "# create data\n",
    "#x = [1,2,3,4]\n",
    "x = ['accuracy','precision','recall','f1']\n",
    "plt.figure(figsize=(10,10))\n",
    "plt.title('score')\n",
    "# plot lines\n",
    "for i in range(7):\n",
    "    plt.plot(x,[accu[i],prec[i],recc[i],f1[i]], label = models[i])\n",
    "plt.legend()\n",
    "plt.savefig('curves.png')\n",
    "plt.show()"
   ]
  }
 ],
 "metadata": {
  "kernelspec": {
   "display_name": "Python 3",
   "language": "python",
   "name": "python3"
  },
  "language_info": {
   "codemirror_mode": {
    "name": "ipython",
    "version": 3
   },
   "file_extension": ".py",
   "mimetype": "text/x-python",
   "name": "python",
   "nbconvert_exporter": "python",
   "pygments_lexer": "ipython3",
   "version": "3.7.10"
  }
 },
 "nbformat": 4,
 "nbformat_minor": 5
}
